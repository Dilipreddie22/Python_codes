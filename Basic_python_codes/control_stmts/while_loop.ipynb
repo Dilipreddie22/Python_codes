{
 "cells": [
  {
   "cell_type": "code",
   "execution_count": 30,
   "metadata": {},
   "outputs": [
    {
     "name": "stdout",
     "output_type": "stream",
     "text": [
      "abc\n",
      "abc\n",
      "abc\n",
      "abc\n",
      "abc\n",
      "abc\n",
      "abc\n",
      "abc\n",
      "abc\n",
      "abc\n",
      "abc\n",
      "abc\n",
      "abc\n",
      "abc\n",
      "abc\n",
      "abc\n",
      "abc\n",
      "abc\n",
      "abc\n",
      "abc\n",
      "abc\n",
      "abc\n",
      "abc\n",
      "abc\n",
      "abc\n",
      "abc\n",
      "abc\n",
      "abc\n",
      "abc\n",
      "abc\n",
      "abc\n",
      "abc\n",
      "abc\n",
      "abc\n",
      "abc\n",
      "abc\n",
      "abc\n",
      "abc\n",
      "abc\n",
      "abc\n",
      "abc\n",
      "abc\n",
      "abc\n",
      "abc\n",
      "abc\n",
      "abc\n",
      "abc\n",
      "abc\n",
      "abc\n",
      "abc\n",
      "abc\n",
      "abc\n",
      "abc\n",
      "abc\n",
      "abc\n",
      "abc\n",
      "abc\n",
      "abc\n",
      "abc\n",
      "abc\n",
      "abc\n",
      "abc\n",
      "abc\n",
      "abc\n",
      "abc\n",
      "abc\n",
      "abc\n",
      "abc\n",
      "abc\n",
      "abc\n",
      "abc\n",
      "abc\n",
      "abc\n",
      "abc\n",
      "abc\n",
      "abc\n",
      "abc\n",
      "abc\n",
      "abc\n",
      "abc\n",
      "abc\n",
      "abc\n",
      "abc\n",
      "abc\n",
      "abc\n",
      "abc\n",
      "abc\n",
      "abc\n",
      "abc\n",
      "abc\n",
      "abc\n",
      "abc\n",
      "abc\n",
      "abc\n",
      "abc\n",
      "abc\n",
      "abc\n",
      "abc\n",
      "abc\n",
      "abc\n",
      "\n"
     ]
    }
   ],
   "source": [
    "#print hello world 100 times without using while loop\n",
    "name=input()\n",
    "print((name+'\\n')*100)#replication"
   ]
  },
  {
   "cell_type": "code",
   "execution_count": 43,
   "metadata": {},
   "outputs": [
    {
     "name": "stdout",
     "output_type": "stream",
     "text": [
      "arey py\n",
      "arey py\n",
      "arey py\n",
      "arey py\n",
      "arey py\n",
      "ey ra thinnava\n",
      "ey ra thinnava\n",
      "ey ra thinnava\n",
      "ey ra thinnava\n",
      "ey ra thinnava\n",
      "disturb cheyyak ra class vinu\n",
      "disturb cheyyak ra class vinu\n",
      "disturb cheyyak ra class vinu\n",
      "disturb cheyyak ra class vinu\n",
      "disturb cheyyak ra class vinu\n",
      "abha sarley maku time ostadhi\n",
      "abha sarley maku time ostadhi\n",
      "abha sarley maku time ostadhi\n",
      "abha sarley maku time ostadhi\n",
      "abha sarley maku time ostadhi\n"
     ]
    }
   ],
   "source": [
    "#to control the while stm,t we have 2 use 3 concepts\n",
    "#1.initailization \n",
    "#2.condition \n",
    "#3.increment/decrement or updation\n",
    "\n",
    "n=1\n",
    "while(n<=5):\n",
    "    print(\"arey py\")\n",
    "    n+=1\n",
    "\n",
    "n=5\n",
    "while n:\n",
    "    print(\"ey ra thinnava\")\n",
    "    n-=1\n",
    "\n",
    "start=0\n",
    "end=5\n",
    "while start<end:\n",
    "    print(\"disturb cheyyak ra class vinu\")\n",
    "    start+=1\n",
    "    \n",
    "n=1\n",
    "m=5\n",
    "while n<=m:\n",
    "    print(\"abha sarley maku time ostadhi\")\n",
    "    n+=1\n"
   ]
  },
  {
   "cell_type": "code",
   "execution_count": 64,
   "metadata": {},
   "outputs": [
    {
     "name": "stdout",
     "output_type": "stream",
     "text": [
      "12.9 <class 'float'>\n"
     ]
    }
   ],
   "source": [
    "#input stmt\n",
    "# if we want to fetch the val or get the val from user by through shell or prompt we have 2 use function name called input function.\n",
    "# the input function will support to display the msg.\n",
    "# it is a pre-defined function,its takes the val from user and stores val in string format and returns the val in the form of str format.\n",
    "#syntax:\n",
    "# var_name=input()\n",
    "var=eval(input())\n",
    "print(var,type(var))"
   ]
  },
  {
   "cell_type": "code",
   "execution_count": 28,
   "metadata": {},
   "outputs": [
    {
     "name": "stdout",
     "output_type": "stream",
     "text": [
      "7\n",
      "6\n",
      "5\n",
      "4\n",
      "3\n"
     ]
    }
   ],
   "source": [
    "num=34567\n",
    "while num:\n",
    "    var=num%10\n",
    "    print(var)\n",
    "    num=num//10"
   ]
  },
  {
   "cell_type": "code",
   "execution_count": 12,
   "metadata": {},
   "outputs": [
    {
     "name": "stdout",
     "output_type": "stream",
     "text": [
      "3\n",
      "4\n",
      "5\n",
      "6\n",
      "7\n"
     ]
    }
   ],
   "source": [
    "start=0\n",
    "num=34567\n",
    "n=str(num)\n",
    "while start<len(n):\n",
    "    print(n[start])\n",
    "    start+=1"
   ]
  },
  {
   "cell_type": "code",
   "execution_count": 14,
   "metadata": {},
   "outputs": [
    {
     "name": "stdout",
     "output_type": "stream",
     "text": [
      "3\n",
      "4\n",
      "5\n",
      "6\n",
      "7\n"
     ]
    }
   ],
   "source": [
    "start=0\n",
    "num=34567\n",
    "n=str(num)\n",
    "while start<len(n):\n",
    "    print(n[start])\n",
    "    start+=1"
   ]
  },
  {
   "cell_type": "code",
   "execution_count": 18,
   "metadata": {},
   "outputs": [
    {
     "name": "stdout",
     "output_type": "stream",
     "text": [
      "1\n",
      "2\n",
      "3\n",
      "4\n"
     ]
    }
   ],
   "source": [
    "start=0\n",
    "n=1234\n",
    "p=str(n)\n",
    "while n:\n",
    "    print(p[start])\n",
    "    start+=1\n",
    "    n=n//10"
   ]
  },
  {
   "cell_type": "code",
   "execution_count": 3,
   "metadata": {},
   "outputs": [
    {
     "name": "stdout",
     "output_type": "stream",
     "text": [
      "1 1\n",
      "2 4\n",
      "3 9\n",
      "4 16\n",
      "5 25\n",
      "6 36\n",
      "7 49\n",
      "8 64\n",
      "9 81\n",
      "10 100\n"
     ]
    }
   ],
   "source": [
    "#wap to print 1st 10 natural numbers along with their square numbers\n",
    "start=1\n",
    "end=int(input())\n",
    "while start<=end:\n",
    "    print(start,start**2)\n",
    "    start+=1\n"
   ]
  },
  {
   "cell_type": "code",
   "execution_count": 10,
   "metadata": {},
   "outputs": [
    {
     "name": "stdout",
     "output_type": "stream",
     "text": [
      "105\n",
      "98\n",
      "91\n",
      "84\n",
      "77\n",
      "70\n",
      "63\n",
      "56\n",
      "49\n",
      "42\n",
      "35\n",
      "28\n",
      "21\n",
      "14\n",
      "7\n"
     ]
    }
   ],
   "source": [
    "num=105\n",
    "while (num>=7):\n",
    "    print(num)\n",
    "    num=num-7"
   ]
  },
  {
   "cell_type": "code",
   "execution_count": 12,
   "metadata": {},
   "outputs": [
    {
     "name": "stdout",
     "output_type": "stream",
     "text": [
      "10\n",
      "9\n",
      "8\n",
      "7\n",
      "6\n",
      "5\n",
      "4\n",
      "3\n",
      "2\n",
      "1\n"
     ]
    }
   ],
   "source": [
    "#wap to print 1st 10 natural num in reverse order\n",
    "start=1\n",
    "end=10\n",
    "while end>=start:\n",
    "    print(end)\n",
    "    end-=1"
   ]
  },
  {
   "cell_type": "code",
   "execution_count": 21,
   "metadata": {},
   "outputs": [
    {
     "name": "stdout",
     "output_type": "stream",
     "text": [
      "55\n"
     ]
    }
   ],
   "source": [
    "#wap to print sum of 10 natural numbers\n",
    "num=10\n",
    "s=0\n",
    "while num>=1:\n",
    "    s+=num\n",
    "    num-=1\n",
    "print(s)\n"
   ]
  },
  {
   "cell_type": "code",
   "execution_count": 24,
   "metadata": {},
   "outputs": [
    {
     "name": "stdout",
     "output_type": "stream",
     "text": [
      "45 * 1 = 45\n",
      "45 * 2 = 90\n",
      "45 * 3 = 135\n",
      "45 * 4 = 180\n",
      "45 * 5 = 225\n",
      "45 * 6 = 270\n",
      "45 * 7 = 315\n",
      "45 * 8 = 360\n",
      "45 * 9 = 405\n",
      "45 * 10 = 450\n"
     ]
    }
   ],
   "source": [
    "#wap to print table format\n",
    "i=1\n",
    "n=int(input())\n",
    "while i<=10:\n",
    "    print(n,\"*\",i,\"=\",n*i)\n",
    "    i+=1\n"
   ]
  },
  {
   "cell_type": "code",
   "execution_count": 6,
   "metadata": {},
   "outputs": [
    {
     "name": "stdout",
     "output_type": "stream",
     "text": [
      "12\n"
     ]
    }
   ],
   "source": [
    "#wap to find the sum of the factorial\n",
    "m=1\n",
    "n=6\n",
    "s=0\n",
    "while m<=n:\n",
    "    if n%m==0:\n",
    "        #print(m)\n",
    "        s+=m\n",
    "    m+=1\n",
    "print(s)"
   ]
  },
  {
   "cell_type": "code",
   "execution_count": 14,
   "metadata": {},
   "outputs": [
    {
     "name": "stdout",
     "output_type": "stream",
     "text": [
      "not a prime\n"
     ]
    }
   ],
   "source": [
    "#wap to print sum of the digits and the check the sum res is prime or not\n",
    "num=3452\n",
    "m=1\n",
    "s=0\n",
    "count=0\n",
    "while num:\n",
    "    num1=num%10\n",
    "    s+=num1\n",
    "    num=num//10\n",
    "while m<s:\n",
    "    if s%m==0:\n",
    "        count+=1\n",
    "    m+=1\n",
    "#print(count)\n",
    "if count==2:\n",
    "    print(\"prime\")\n",
    "else:\n",
    "    print(\"not a prime\")"
   ]
  },
  {
   "cell_type": "code",
   "execution_count": 13,
   "metadata": {},
   "outputs": [
    {
     "name": "stdout",
     "output_type": "stream",
     "text": [
      "16\n",
      "not perfect\n"
     ]
    }
   ],
   "source": [
    "#wap to find out the product of all digits in a given number the final resultant val is perfect num or not\n",
    "n=int(input())\n",
    "m=1\n",
    "p=1\n",
    "per=0\n",
    "while n:\n",
    "    n1=n%10\n",
    "    p*=n1\n",
    "    n=n//10\n",
    "print(p)\n",
    "while m<p:\n",
    "    if p%m==0:\n",
    "        per+=m\n",
    "    m+=1\n",
    "if p==per:\n",
    "    print(\"perfect\")\n",
    "else:\n",
    "    print(\"not perfect\")\n"
   ]
  },
  {
   "cell_type": "code",
   "execution_count": 30,
   "metadata": {},
   "outputs": [
    {
     "data": {
      "text/plain": [
       "'eoo123aii'"
      ]
     },
     "execution_count": 30,
     "metadata": {},
     "output_type": "execute_result"
    }
   ],
   "source": [
    "ch=\"hello world 123 haii\"\n",
    "#'eoo123aii'\n",
    "ch[1]+ch[4]+ch[4]+ch[-8:-5]+ch[-3:]"
   ]
  },
  {
   "cell_type": "code",
   "execution_count": 2,
   "metadata": {},
   "outputs": [
    {
     "name": "stdout",
     "output_type": "stream",
     "text": [
      "27\n",
      "30\n",
      "33\n",
      "36\n",
      "39\n",
      "42\n",
      "45\n",
      "48\n",
      "51\n",
      "54\n",
      "57\n",
      "60\n",
      "63\n",
      "66\n"
     ]
    }
   ],
   "source": [
    "a=25\n",
    "b=66\n",
    "while a<=b:\n",
    "    if a%3==0:\n",
    "        print(a)\n",
    "    a+=1"
   ]
  },
  {
   "cell_type": "code",
   "execution_count": 4,
   "metadata": {},
   "outputs": [
    {
     "name": "stdout",
     "output_type": "stream",
     "text": [
      "145\n",
      "strong\n"
     ]
    }
   ],
   "source": [
    "n=int(input())\n",
    "res1=0\n",
    "temp=n\n",
    "while n:\n",
    "    n1=n%10\n",
    "    m=1\n",
    "    res=1\n",
    "    while m<=n1:\n",
    "        res*=m\n",
    "        m+=1\n",
    "    res1+=res\n",
    "    n=n//10\n",
    "print(res1)\n",
    "if res1==temp:\n",
    "    print(\"strong\")\n",
    "else:\n",
    "    print(\"not strong\")"
   ]
  },
  {
   "cell_type": "code",
   "execution_count": null,
   "metadata": {},
   "outputs": [],
   "source": []
  }
 ],
 "metadata": {
  "kernelspec": {
   "display_name": "Python 3",
   "language": "python",
   "name": "python3"
  },
  "language_info": {
   "codemirror_mode": {
    "name": "ipython",
    "version": 3
   },
   "file_extension": ".py",
   "mimetype": "text/x-python",
   "name": "python",
   "nbconvert_exporter": "python",
   "pygments_lexer": "ipython3",
   "version": "3.11.4"
  },
  "orig_nbformat": 4
 },
 "nbformat": 4,
 "nbformat_minor": 2
}
