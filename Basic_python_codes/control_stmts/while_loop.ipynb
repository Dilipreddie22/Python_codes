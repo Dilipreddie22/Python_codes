{
 "cells": [
  {
   "cell_type": "code",
   "execution_count": 30,
   "metadata": {},
   "outputs": [
    {
     "name": "stdout",
     "output_type": "stream",
     "text": [
      "abc\n",
      "abc\n",
      "abc\n",
      "abc\n",
      "abc\n",
      "abc\n",
      "abc\n",
      "abc\n",
      "abc\n",
      "abc\n",
      "abc\n",
      "abc\n",
      "abc\n",
      "abc\n",
      "abc\n",
      "abc\n",
      "abc\n",
      "abc\n",
      "abc\n",
      "abc\n",
      "abc\n",
      "abc\n",
      "abc\n",
      "abc\n",
      "abc\n",
      "abc\n",
      "abc\n",
      "abc\n",
      "abc\n",
      "abc\n",
      "abc\n",
      "abc\n",
      "abc\n",
      "abc\n",
      "abc\n",
      "abc\n",
      "abc\n",
      "abc\n",
      "abc\n",
      "abc\n",
      "abc\n",
      "abc\n",
      "abc\n",
      "abc\n",
      "abc\n",
      "abc\n",
      "abc\n",
      "abc\n",
      "abc\n",
      "abc\n",
      "abc\n",
      "abc\n",
      "abc\n",
      "abc\n",
      "abc\n",
      "abc\n",
      "abc\n",
      "abc\n",
      "abc\n",
      "abc\n",
      "abc\n",
      "abc\n",
      "abc\n",
      "abc\n",
      "abc\n",
      "abc\n",
      "abc\n",
      "abc\n",
      "abc\n",
      "abc\n",
      "abc\n",
      "abc\n",
      "abc\n",
      "abc\n",
      "abc\n",
      "abc\n",
      "abc\n",
      "abc\n",
      "abc\n",
      "abc\n",
      "abc\n",
      "abc\n",
      "abc\n",
      "abc\n",
      "abc\n",
      "abc\n",
      "abc\n",
      "abc\n",
      "abc\n",
      "abc\n",
      "abc\n",
      "abc\n",
      "abc\n",
      "abc\n",
      "abc\n",
      "abc\n",
      "abc\n",
      "abc\n",
      "abc\n",
      "abc\n",
      "\n"
     ]
    }
   ],
   "source": [
    "#print hello world 100 times without using while loop\n",
    "name=input()\n",
    "print((name+'\\n')*100)#replication"
   ]
  },
  {
   "cell_type": "code",
   "execution_count": 43,
   "metadata": {},
   "outputs": [
    {
     "name": "stdout",
     "output_type": "stream",
     "text": [
      "arey py\n",
      "arey py\n",
      "arey py\n",
      "arey py\n",
      "arey py\n",
      "ey ra thinnava\n",
      "ey ra thinnava\n",
      "ey ra thinnava\n",
      "ey ra thinnava\n",
      "ey ra thinnava\n",
      "disturb cheyyak ra class vinu\n",
      "disturb cheyyak ra class vinu\n",
      "disturb cheyyak ra class vinu\n",
      "disturb cheyyak ra class vinu\n",
      "disturb cheyyak ra class vinu\n",
      "abha sarley maku time ostadhi\n",
      "abha sarley maku time ostadhi\n",
      "abha sarley maku time ostadhi\n",
      "abha sarley maku time ostadhi\n",
      "abha sarley maku time ostadhi\n"
     ]
    }
   ],
   "source": [
    "#to control the while stm,t we have 2 use 3 concepts\n",
    "#1.initailization \n",
    "#2.condition \n",
    "#3.increment/decrement or updation\n",
    "\n",
    "n=1\n",
    "while(n<=5):\n",
    "    print(\"arey py\")\n",
    "    n+=1\n",
    "\n",
    "n=5\n",
    "while n:\n",
    "    print(\"ey ra thinnava\")\n",
    "    n-=1\n",
    "\n",
    "start=0\n",
    "end=5\n",
    "while start<end:\n",
    "    print(\"disturb cheyyak ra class vinu\")\n",
    "    start+=1\n",
    "    \n",
    "n=1\n",
    "m=5\n",
    "while n<=m:\n",
    "    print(\"abha sarley maku time ostadhi\")\n",
    "    n+=1\n"
   ]
  },
  {
   "cell_type": "code",
   "execution_count": 64,
   "metadata": {},
   "outputs": [
    {
     "name": "stdout",
     "output_type": "stream",
     "text": [
      "12.9 <class 'float'>\n"
     ]
    }
   ],
   "source": [
    "#input stmt\n",
    "# if we want to fetch the val or get the val from user by through shell or prompt we have 2 use function name called input function.\n",
    "# the input function will support to display the msg.\n",
    "# it is a pre-defined function,its takes the val from user and stores val in string format and returns the val in the form of str format.\n",
    "#syntax:\n",
    "# var_name=input()\n",
    "var=eval(input())\n",
    "print(var,type(var))"
   ]
  },
  {
   "cell_type": "code",
   "execution_count": 28,
   "metadata": {},
   "outputs": [
    {
     "name": "stdout",
     "output_type": "stream",
     "text": [
      "7\n",
      "6\n",
      "5\n",
      "4\n",
      "3\n"
     ]
    }
   ],
   "source": [
    "#wap to print the sequence of digits from right--->left\n",
    "num=34567\n",
    "while num:\n",
    "    var=num%10\n",
    "    print(var)\n",
    "    num=num//10"
   ]
  },
  {
   "cell_type": "code",
   "execution_count": null,
   "metadata": {},
   "outputs": [],
   "source": []
  },
  {
   "cell_type": "code",
   "execution_count": 14,
   "metadata": {},
   "outputs": [
    {
     "name": "stdout",
     "output_type": "stream",
     "text": [
      "3\n",
      "4\n",
      "5\n",
      "6\n",
      "7\n"
     ]
    }
   ],
   "source": [
    "#wap to fetch each digit in a number\n",
    "start=0\n",
    "num=34567\n",
    "n=str(num)\n",
    "while start<len(n):\n",
    "    print(n[start])\n",
    "    start+=1"
   ]
  },
  {
   "cell_type": "code",
   "execution_count": 18,
   "metadata": {},
   "outputs": [
    {
     "name": "stdout",
     "output_type": "stream",
     "text": [
      "1\n",
      "2\n",
      "3\n",
      "4\n"
     ]
    }
   ],
   "source": [
    "#wap to print sequence of digits in number from left--->right\n",
    "start=0\n",
    "n=1234\n",
    "p=str(n)\n",
    "while n:\n",
    "    print(p[start])\n",
    "    start+=1\n",
    "    n=n//10"
   ]
  },
  {
   "cell_type": "code",
   "execution_count": 3,
   "metadata": {},
   "outputs": [
    {
     "name": "stdout",
     "output_type": "stream",
     "text": [
      "1 1\n",
      "2 4\n",
      "3 9\n",
      "4 16\n",
      "5 25\n",
      "6 36\n",
      "7 49\n",
      "8 64\n",
      "9 81\n",
      "10 100\n"
     ]
    }
   ],
   "source": [
    "#wap to print 1st 10 natural numbers along with their square numbers\n",
    "start=1\n",
    "end=int(input())\n",
    "while start<=end:\n",
    "    print(start,start**2)\n",
    "    start+=1\n"
   ]
  },
  {
   "cell_type": "code",
   "execution_count": 10,
   "metadata": {},
   "outputs": [
    {
     "name": "stdout",
     "output_type": "stream",
     "text": [
      "105\n",
      "98\n",
      "91\n",
      "84\n",
      "77\n",
      "70\n",
      "63\n",
      "56\n",
      "49\n",
      "42\n",
      "35\n",
      "28\n",
      "21\n",
      "14\n",
      "7\n"
     ]
    }
   ],
   "source": [
    "#wap to print the given series 105,98,91,84,77......21,14,7\n",
    "num=105\n",
    "while (num>=7):\n",
    "    print(num)\n",
    "    num=num-7"
   ]
  },
  {
   "cell_type": "code",
   "execution_count": 12,
   "metadata": {},
   "outputs": [
    {
     "name": "stdout",
     "output_type": "stream",
     "text": [
      "10\n",
      "9\n",
      "8\n",
      "7\n",
      "6\n",
      "5\n",
      "4\n",
      "3\n",
      "2\n",
      "1\n"
     ]
    }
   ],
   "source": [
    "#wap to print 1st 10 natural num in reverse order\n",
    "start=1\n",
    "end=10\n",
    "while end>=start:\n",
    "    print(end)\n",
    "    end-=1"
   ]
  },
  {
   "cell_type": "code",
   "execution_count": 21,
   "metadata": {},
   "outputs": [
    {
     "name": "stdout",
     "output_type": "stream",
     "text": [
      "55\n"
     ]
    }
   ],
   "source": [
    "#wap to print sum of 10 natural numbers\n",
    "num=10\n",
    "s=0\n",
    "while num>=1:\n",
    "    s+=num\n",
    "    num-=1\n",
    "print(s)\n"
   ]
  },
  {
   "cell_type": "code",
   "execution_count": 11,
   "metadata": {},
   "outputs": [
    {
     "name": "stdout",
     "output_type": "stream",
     "text": [
      "56 * 1 = 56\n",
      "56 * 2 = 112\n",
      "56 * 3 = 168\n",
      "56 * 4 = 224\n",
      "56 * 5 = 280\n",
      "56 * 6 = 336\n",
      "56 * 7 = 392\n",
      "56 * 8 = 448\n",
      "56 * 9 = 504\n",
      "56 * 10 = 560\n"
     ]
    }
   ],
   "source": [
    "#wap to print table format\n",
    "i=1\n",
    "n=int(input())\n",
    "while i<=10:\n",
    "    print(n,\"*\",i,\"=\",n*i)\n",
    "    i+=1\n"
   ]
  },
  {
   "cell_type": "code",
   "execution_count": 8,
   "metadata": {},
   "outputs": [
    {
     "name": "stdout",
     "output_type": "stream",
     "text": [
      "12\n"
     ]
    }
   ],
   "source": [
    "#wap to find the sum of the factorial\n",
    "m=1\n",
    "n=6\n",
    "s=0\n",
    "while m<=n:\n",
    "    if n%m==0:\n",
    "        s+=m\n",
    "    m+=1\n",
    "print(s)"
   ]
  },
  {
   "cell_type": "code",
   "execution_count": 14,
   "metadata": {},
   "outputs": [
    {
     "name": "stdout",
     "output_type": "stream",
     "text": [
      "not a prime\n"
     ]
    }
   ],
   "source": [
    "#wap to print sum of the digits and the check the sum res is prime or not\n",
    "num=3452\n",
    "m=1\n",
    "s=0\n",
    "count=0\n",
    "while num:\n",
    "    num1=num%10\n",
    "    s+=num1\n",
    "    num=num//10\n",
    "while m<s:\n",
    "    if s%m==0:\n",
    "        count+=1\n",
    "    m+=1\n",
    "#print(count)\n",
    "if count==2:\n",
    "    print(\"prime\")\n",
    "else:\n",
    "    print(\"not a prime\")"
   ]
  },
  {
   "cell_type": "code",
   "execution_count": 13,
   "metadata": {},
   "outputs": [
    {
     "name": "stdout",
     "output_type": "stream",
     "text": [
      "16\n",
      "not perfect\n"
     ]
    }
   ],
   "source": [
    "#wap to find out the product of all digits in a given number the final resultant val is perfect num or not\n",
    "n=int(input())\n",
    "m=1\n",
    "p=1\n",
    "per=0\n",
    "while n:\n",
    "    n1=n%10\n",
    "    p*=n1\n",
    "    n=n//10\n",
    "print(p)\n",
    "while m<p:\n",
    "    if p%m==0:\n",
    "        per+=m\n",
    "    m+=1\n",
    "if p==per:\n",
    "    print(\"perfect\")\n",
    "else:\n",
    "    print(\"not perfect\")\n"
   ]
  },
  {
   "cell_type": "code",
   "execution_count": 30,
   "metadata": {},
   "outputs": [
    {
     "data": {
      "text/plain": [
       "'eoo123aii'"
      ]
     },
     "execution_count": 30,
     "metadata": {},
     "output_type": "execute_result"
    }
   ],
   "source": [
    "ch=\"hello world 123 haii\"\n",
    "#'eoo123aii'\n",
    "ch[1]+ch[4]+ch[4]+ch[-8:-5]+ch[-3:]"
   ]
  },
  {
   "cell_type": "code",
   "execution_count": 2,
   "metadata": {},
   "outputs": [
    {
     "name": "stdout",
     "output_type": "stream",
     "text": [
      "27\n",
      "30\n",
      "33\n",
      "36\n",
      "39\n",
      "42\n",
      "45\n",
      "48\n",
      "51\n",
      "54\n",
      "57\n",
      "60\n",
      "63\n",
      "66\n"
     ]
    }
   ],
   "source": [
    "#wap to extract the numbers between 25 to 66 which are divisible by 3\n",
    "a=25\n",
    "b=66\n",
    "while a<=b:\n",
    "    if a%3==0:\n",
    "        print(a)\n",
    "    a+=1"
   ]
  },
  {
   "cell_type": "code",
   "execution_count": 4,
   "metadata": {},
   "outputs": [
    {
     "name": "stdout",
     "output_type": "stream",
     "text": [
      "145\n",
      "strong\n"
     ]
    }
   ],
   "source": [
    "#wap to print the given num is strong or not\n",
    "n=int(input())\n",
    "res1=0\n",
    "temp=n\n",
    "while n:\n",
    "    n1=n%10\n",
    "    m=1\n",
    "    res=1\n",
    "    while m<=n1:\n",
    "        res*=m\n",
    "        m+=1\n",
    "    res1+=res\n",
    "    n=n//10\n",
    "print(res1)\n",
    "if res1==temp:\n",
    "    print(\"strong\")\n",
    "else:\n",
    "    print(\"not strong\")"
   ]
  },
  {
   "cell_type": "code",
   "execution_count": 6,
   "metadata": {},
   "outputs": [
    {
     "name": "stdout",
     "output_type": "stream",
     "text": [
      "not an amstrong number\n"
     ]
    }
   ],
   "source": [
    "#wap to print to check the given number is amstrong or not\n",
    "n=53\n",
    "temp=n\n",
    "count=len(str(n))\n",
    "s=0\n",
    "while n>0:\n",
    "    n1=n%10\n",
    "    s+=n1**count\n",
    "    n=n//10\n",
    "if s==temp:\n",
    "    print(\"amstrong\")\n",
    "else:\n",
    "    print(\"not an amstrong number\")\n"
   ]
  },
  {
   "cell_type": "code",
   "execution_count": 12,
   "metadata": {},
   "outputs": [
    {
     "name": "stdout",
     "output_type": "stream",
     "text": [
      "1100\n"
     ]
    }
   ],
   "source": [
    "#wap to convert demical to binary\n",
    "dec_num=int(input())\n",
    "bin_num=\"\"\n",
    "while dec_num>0:\n",
    "    rem=dec_num%2\n",
    "    bin_num=str(rem)+bin_num\n",
    "    dec_num=dec_num//2\n",
    "print(bin_num)"
   ]
  },
  {
   "cell_type": "code",
   "execution_count": 8,
   "metadata": {},
   "outputs": [
    {
     "name": "stdout",
     "output_type": "stream",
     "text": [
      "1\n",
      "2\n",
      "3\n",
      "4\n",
      "5\n",
      "6\n",
      "7\n",
      "8\n",
      "9\n",
      "153\n",
      "370\n",
      "371\n",
      "407\n"
     ]
    }
   ],
   "source": [
    "start=1\n",
    "end=1000\n",
    "while start<=end: #while s: count+=1 s=s//10\n",
    "    n=start\n",
    "    count=len(str(n))\n",
    "    temp=n\n",
    "    s=0\n",
    "    while n:\n",
    "        ld=n%10\n",
    "        s+=ld**count\n",
    "        n=n//10\n",
    "    if s==temp:\n",
    "        print(s)\n",
    "    start+=1\n"
   ]
  },
  {
   "cell_type": "code",
   "execution_count": 14,
   "metadata": {},
   "outputs": [
    {
     "name": "stdout",
     "output_type": "stream",
     "text": [
      "1\n",
      "2\n",
      "3\n",
      "4\n",
      "5\n",
      "6\n",
      "7\n",
      "8\n",
      "9\n",
      "22\n",
      "123\n",
      "132\n",
      "213\n",
      "231\n",
      "312\n",
      "321\n",
      "1124\n",
      "1142\n",
      "1214\n",
      "1241\n",
      "1412\n",
      "1421\n",
      "2114\n",
      "2141\n",
      "2411\n",
      "4112\n",
      "4121\n",
      "4211\n"
     ]
    }
   ],
   "source": [
    "#wap to print the serious of spy numbers 1 to 10000\n",
    "start=1\n",
    "end=10000\n",
    "while start<=end:\n",
    "    n=start\n",
    "    temp=n\n",
    "    sum=0\n",
    "    prod=1\n",
    "    while n:\n",
    "        ld=n%10\n",
    "        sum+=ld\n",
    "        prod*=ld\n",
    "        n=n//10\n",
    "    if sum==prod:\n",
    "        print(temp)\n",
    "    start+=1"
   ]
  },
  {
   "cell_type": "code",
   "execution_count": 25,
   "metadata": {},
   "outputs": [
    {
     "name": "stdout",
     "output_type": "stream",
     "text": [
      "1\n",
      "2\n",
      "3\n",
      "4\n",
      "5\n",
      "6\n",
      "7\n",
      "8\n",
      "9\n",
      "11\n",
      "22\n",
      "33\n",
      "44\n",
      "55\n",
      "66\n",
      "77\n",
      "88\n",
      "99\n",
      "101\n",
      "111\n",
      "121\n",
      "131\n",
      "141\n",
      "151\n",
      "161\n",
      "171\n",
      "181\n",
      "191\n"
     ]
    }
   ],
   "source": [
    "#wap to print the series of palindrome from 1 to 10000\n",
    "start=1\n",
    "end=200\n",
    "while start<=end:\n",
    "    n=start\n",
    "    temp=n\n",
    "    sum=0\n",
    "    while n:\n",
    "        ld=n%10\n",
    "        sum=(sum*10)+ld\n",
    "        n=n//10\n",
    "    if sum==temp:\n",
    "        print(temp)\n",
    "    start+=1\n"
   ]
  },
  {
   "cell_type": "code",
   "execution_count": 45,
   "metadata": {},
   "outputs": [
    {
     "name": "stdout",
     "output_type": "stream",
     "text": [
      "14\n"
     ]
    }
   ],
   "source": [
    "n=19792138814591\n",
    "s=0\n",
    "s1=0\n",
    "while n:\n",
    "    ld=n%10\n",
    "    s+=ld\n",
    "    n=n//10\n",
    "while s:\n",
    "    ld1=s%10\n",
    "    s1+=ld1\n",
    "    s=s//10\n",
    "print(s1)"
   ]
  },
  {
   "cell_type": "code",
   "execution_count": 53,
   "metadata": {},
   "outputs": [
    {
     "name": "stdout",
     "output_type": "stream",
     "text": [
      "6\n"
     ]
    }
   ],
   "source": [
    "num=87\n",
    "while num>9:\n",
    "    sum=0\n",
    "    while num:\n",
    "        ld=num%10\n",
    "        sum+=ld\n",
    "        num=num//10\n",
    "    num=sum\n",
    "print(sum)"
   ]
  },
  {
   "cell_type": "code",
   "execution_count": 76,
   "metadata": {},
   "outputs": [
    {
     "name": "stdout",
     "output_type": "stream",
     "text": [
      "12\n",
      "6\n",
      "6\n"
     ]
    }
   ],
   "source": [
    "#wap to extract middle digit of a given num\n",
    "n=123456789012\n",
    "temp=n\n",
    "c=0\n",
    "while n:\n",
    "    c+=1\n",
    "    n=n//10\n",
    "print(c)\n",
    "half=c//2\n",
    "print(half)\n",
    "print(temp//(10**half)%10)"
   ]
  },
  {
   "cell_type": "code",
   "execution_count": 27,
   "metadata": {},
   "outputs": [
    {
     "name": "stdout",
     "output_type": "stream",
     "text": [
      "4\n",
      "6\n",
      "8\n",
      "9\n",
      "10\n",
      "12\n",
      "14\n",
      "15\n",
      "16\n",
      "18\n",
      "20\n",
      "21\n",
      "22\n",
      "24\n",
      "25\n",
      "26\n",
      "27\n",
      "28\n",
      "30\n",
      "32\n",
      "33\n",
      "34\n",
      "35\n",
      "36\n",
      "38\n",
      "39\n",
      "40\n",
      "42\n",
      "44\n",
      "45\n",
      "46\n",
      "48\n",
      "49\n",
      "50\n",
      "51\n",
      "52\n",
      "54\n",
      "55\n",
      "56\n",
      "57\n",
      "58\n",
      "60\n",
      "62\n",
      "63\n",
      "64\n",
      "65\n",
      "66\n",
      "68\n",
      "69\n",
      "70\n",
      "72\n",
      "74\n",
      "75\n",
      "76\n",
      "77\n",
      "78\n",
      "80\n",
      "81\n",
      "82\n",
      "84\n",
      "85\n",
      "86\n",
      "87\n",
      "88\n",
      "90\n",
      "91\n",
      "92\n",
      "93\n",
      "94\n",
      "95\n",
      "96\n",
      "98\n",
      "99\n",
      "100\n",
      "102\n",
      "104\n",
      "105\n",
      "106\n",
      "108\n",
      "110\n",
      "111\n",
      "112\n",
      "114\n",
      "115\n",
      "116\n",
      "117\n",
      "118\n",
      "119\n",
      "120\n",
      "121\n",
      "122\n",
      "123\n",
      "124\n",
      "125\n",
      "126\n",
      "128\n",
      "129\n",
      "130\n",
      "132\n",
      "133\n",
      "134\n",
      "135\n",
      "136\n",
      "138\n",
      "140\n",
      "141\n",
      "142\n",
      "143\n",
      "144\n",
      "145\n",
      "146\n",
      "147\n",
      "148\n",
      "150\n",
      "152\n",
      "153\n"
     ]
    }
   ],
   "source": [
    "#wap to check the given num is armstrong or not if yes print non prime numbers between 1 to given number\n",
    "n=153\n",
    "temp=n\n",
    "while n:\n",
    "    c+=1\n",
    "    n=n//10\n",
    "temp1=n\n",
    "sum=0\n",
    "while temp1:\n",
    "    ld=temp1%10\n",
    "    sum=sum+(ld**c)\n",
    "    temp1=temp1//10\n",
    "if temp1==sum:\n",
    "    a=1\n",
    "    while a<=temp:\n",
    "        i=1\n",
    "        c=0\n",
    "        while i<=a:\n",
    "            if a%i==0:\n",
    "                c+=1\n",
    "            i+=1\n",
    "        if c>2:\n",
    "            print(a)\n",
    "        a+=1\n"
   ]
  },
  {
   "cell_type": "code",
   "execution_count": null,
   "metadata": {},
   "outputs": [],
   "source": []
  }
 ],
 "metadata": {
  "kernelspec": {
   "display_name": "Python 3",
   "language": "python",
   "name": "python3"
  },
  "language_info": {
   "codemirror_mode": {
    "name": "ipython",
    "version": 3
   },
   "file_extension": ".py",
   "mimetype": "text/x-python",
   "name": "python",
   "nbconvert_exporter": "python",
   "pygments_lexer": "ipython3",
   "version": "3.11.4"
  },
  "orig_nbformat": 4
 },
 "nbformat": 4,
 "nbformat_minor": 2
}
