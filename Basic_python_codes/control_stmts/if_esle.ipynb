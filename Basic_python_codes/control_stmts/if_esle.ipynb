{
 "cells": [
  {
   "cell_type": "code",
   "execution_count": 1,
   "metadata": {},
   "outputs": [
    {
     "name": "stdout",
     "output_type": "stream",
     "text": [
      "6 Swathi\n",
      "7 Sravani\n"
     ]
    }
   ],
   "source": [
    "s1='Swathi'\n",
    "s2='Sravani'\n",
    "if len(s1)==len(s2):\n",
    "    print(s1+s2)\n",
    "else:\n",
    "    print(len(s1),s1)\n",
    "    print(len(s2),s2)"
   ]
  },
  {
   "cell_type": "code",
   "execution_count": 2,
   "metadata": {},
   "outputs": [
    {
     "name": "stdout",
     "output_type": "stream",
     "text": [
      "Weird\n"
     ]
    }
   ],
   "source": [
    "n=int(input())\n",
    "if n%2==1:\n",
    "    print(\"Weird\")\n",
    "if n%2==0 and 2<=n<=5:\n",
    "    print(\"Not Weird\")\n",
    "if n%2==0 and 6<=n<=20:\n",
    "    print(\"Weird\")\n",
    "else:\n",
    "    print(\"Not Weird\")"
   ]
  },
  {
   "cell_type": "code",
   "execution_count": 3,
   "metadata": {},
   "outputs": [
    {
     "name": "stdout",
     "output_type": "stream",
     "text": [
      "good evening\n"
     ]
    }
   ],
   "source": [
    "#take 2 inputs to check divisible by 3 and 5 if yes print gm else print ge\n",
    "n=int(input())\n",
    "m=int(input())\n",
    "if n%3==0 and n%5==0 and m%3==0 and m%5==0 :\n",
    "    print(\"Good morning\")\n",
    "else:\n",
    "    print(\"good evening\")\n"
   ]
  },
  {
   "cell_type": "code",
   "execution_count": 4,
   "metadata": {},
   "outputs": [
    {
     "name": "stdout",
     "output_type": "stream",
     "text": [
      "142\n"
     ]
    }
   ],
   "source": [
    "#wap to check both values r odd or not if yes display area of rectangle else perimeter of the rectangle\n",
    "n=int(input())\n",
    "m=int(input())\n",
    "if n%2==1 and m%2==1:\n",
    "    print(n*m)#area\n",
    "else:\n",
    "    print(2*(n+m))#perimeter"
   ]
  },
  {
   "cell_type": "code",
   "execution_count": 5,
   "metadata": {},
   "outputs": [
    {
     "name": "stdout",
     "output_type": "stream",
     "text": [
      "Dihaiilip\n"
     ]
    }
   ],
   "source": [
    "ch='Dilip'\n",
    "if len(ch)%2!=0 and 'A'<=ch<='Z':\n",
    "    print(ch[0:len(ch)//2]+'haii'+ch[len(ch)//2:])\n",
    "else:\n",
    "    print(ch[-1]+ch[1:len(ch)-1]+ch[0])"
   ]
  },
  {
   "cell_type": "code",
   "execution_count": 8,
   "metadata": {},
   "outputs": [
    {
     "name": "stdout",
     "output_type": "stream",
     "text": [
      "[2.0, 'a', -10]\n"
     ]
    }
   ],
   "source": [
    "c=[6,'a',9]\n",
    "if type(c[0])==int and type(c[-1])==int and type(c)==list:\n",
    "    c[0]=c[0]/3\n",
    "    c[-1]=~c[-1]\n",
    "    print(c)\n",
    "else:\n",
    "    d=len(c)**2\n",
    "    print(d)"
   ]
  },
  {
   "cell_type": "code",
   "execution_count": 10,
   "metadata": {},
   "outputs": [
    {
     "name": "stdout",
     "output_type": "stream",
     "text": [
      "{'D': 68}\n"
     ]
    }
   ],
   "source": [
    "ch='D'\n",
    "if ch in 'A'<=ch<='Z' or 'a'<=ch<='z':\n",
    "    print(chr(ord(ch)-1)+ch+chr(ord(ch)+1))\n",
    "else:\n",
    "    print({ch:ord(ch)})"
   ]
  },
  {
   "cell_type": "code",
   "execution_count": 11,
   "metadata": {},
   "outputs": [
    {
     "name": "stdout",
     "output_type": "stream",
     "text": [
      "{68: 'D'}\n"
     ]
    }
   ],
   "source": [
    "n=int(input())\n",
    "m=[]\n",
    "if n<125 and 47<n<125:\n",
    "    print({n:chr(n)})\n",
    "else:\n",
    "    m+=[n]\n",
    "    print(m)"
   ]
  },
  {
   "cell_type": "code",
   "execution_count": null,
   "metadata": {},
   "outputs": [],
   "source": []
  }
 ],
 "metadata": {
  "kernelspec": {
   "display_name": "Python 3",
   "language": "python",
   "name": "python3"
  },
  "language_info": {
   "codemirror_mode": {
    "name": "ipython",
    "version": 3
   },
   "file_extension": ".py",
   "mimetype": "text/x-python",
   "name": "python",
   "nbconvert_exporter": "python",
   "pygments_lexer": "ipython3",
   "version": "3.11.4"
  },
  "orig_nbformat": 4
 },
 "nbformat": 4,
 "nbformat_minor": 2
}
