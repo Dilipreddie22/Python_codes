{
 "cells": [
  {
   "cell_type": "code",
   "execution_count": 95,
   "metadata": {},
   "outputs": [
    {
     "name": "stdout",
     "output_type": "stream",
     "text": [
      "positive\n"
     ]
    }
   ],
   "source": [
    "#1.to check the given num is +ve or not\n",
    "n=12\n",
    "if n>0:\n",
    "    print(\"positive\")"
   ]
  },
  {
   "cell_type": "code",
   "execution_count": 96,
   "metadata": {},
   "outputs": [
    {
     "name": "stdout",
     "output_type": "stream",
     "text": [
      "hello world\n"
     ]
    }
   ],
   "source": [
    "#2.if the num is >1 and <5 print hello world\n",
    "n=4\n",
    "if n>1 and n<5:\n",
    "    print(\"hello world\")"
   ]
  },
  {
   "cell_type": "code",
   "execution_count": 97,
   "metadata": {},
   "outputs": [
    {
     "name": "stdout",
     "output_type": "stream",
     "text": [
      "fizz\n"
     ]
    }
   ],
   "source": [
    "#3.to check the given num is divisible by 3 or not\n",
    "n=12\n",
    "if n%3==0:\n",
    "    print(\"fizz\")"
   ]
  },
  {
   "cell_type": "code",
   "execution_count": 98,
   "metadata": {},
   "outputs": [
    {
     "name": "stdout",
     "output_type": "stream",
     "text": [
      "(36+0j)\n"
     ]
    }
   ],
   "source": [
    "#4.wap to check whether given value is divisible by 2 and 6 if true return to convert given number into complex\n",
    "n=36\n",
    "if n%2==0 and n%6==0:\n",
    "    res=(complex(n))\n",
    "    print(res)"
   ]
  },
  {
   "cell_type": "code",
   "execution_count": 4,
   "metadata": {},
   "outputs": [
    {
     "name": "stdout",
     "output_type": "stream",
     "text": [
      "['3', '0']\n"
     ]
    }
   ],
   "source": [
    "#5.wap to check whether given value is divisible by 3 or 5. if the condition satisfied convert into list\n",
    "n=30\n",
    "if n%3==0 or n%5==0:\n",
    "    print(list(str(n)))"
   ]
  },
  {
   "cell_type": "code",
   "execution_count": null,
   "metadata": {},
   "outputs": [
    {
     "name": "stdout",
     "output_type": "stream",
     "text": [
      "success\n"
     ]
    }
   ],
   "source": [
    "#6.multiple of 5 or not\n",
    "n=35\n",
    "if n%5==0:\n",
    "    print(\"success\")"
   ]
  },
  {
   "cell_type": "code",
   "execution_count": null,
   "metadata": {},
   "outputs": [
    {
     "name": "stdout",
     "output_type": "stream",
     "text": [
      "0\n"
     ]
    }
   ],
   "source": [
    "#7.if i/p is 0 o/p should be 0\n",
    "n=0\n",
    "if n==0:\n",
    "    print(n)"
   ]
  },
  {
   "cell_type": "code",
   "execution_count": null,
   "metadata": {},
   "outputs": [
    {
     "name": "stdout",
     "output_type": "stream",
     "text": [
      "negative\n"
     ]
    }
   ],
   "source": [
    "#8.to check negative number o/p:\"negative\"\n",
    "n=-3\n",
    "if n<0:\n",
    "    print(\"negative\")"
   ]
  },
  {
   "cell_type": "code",
   "execution_count": 3,
   "metadata": {},
   "outputs": [
    {
     "name": "stdout",
     "output_type": "stream",
     "text": [
      "['2', '4']\n"
     ]
    }
   ],
   "source": [
    "#9. if num is even should store the val in list\n",
    "b=24\n",
    "if b%2==0:\n",
    "    print(list(str(b)))\n"
   ]
  },
  {
   "cell_type": "code",
   "execution_count": null,
   "metadata": {},
   "outputs": [
    {
     "name": "stdout",
     "output_type": "stream",
     "text": [
      "('2', '3')\n"
     ]
    }
   ],
   "source": [
    "#10. if num is odd should store the val in tuple\n",
    "n=23\n",
    "if n%2==1:\n",
    "    print(tuple(str(n)))"
   ]
  },
  {
   "cell_type": "code",
   "execution_count": null,
   "metadata": {},
   "outputs": [
    {
     "name": "stdout",
     "output_type": "stream",
     "text": [
      "4096\n"
     ]
    }
   ],
   "source": [
    "#11. if given num is even then we need to print the power of 4\n",
    "n=8\n",
    "if n%2==0:\n",
    "    print(n**4)"
   ]
  },
  {
   "cell_type": "code",
   "execution_count": 7,
   "metadata": {},
   "outputs": [
    {
     "name": "stdout",
     "output_type": "stream",
     "text": [
      "22\n"
     ]
    }
   ],
   "source": [
    "#12.need to take input as int from user and need to add value to it and print\n",
    "user_input=int(input(\"enter a number\"))\n",
    "if type(user_input)==int:\n",
    "    print(user_input+10)"
   ]
  },
  {
   "cell_type": "code",
   "execution_count": null,
   "metadata": {},
   "outputs": [
    {
     "name": "stdout",
     "output_type": "stream",
     "text": [
      "1225\n"
     ]
    }
   ],
   "source": [
    "#13.to check the num is divisible by 5 and 7 if yes print square of that num\n",
    "n=35\n",
    "if n%5==0 and n%7==0:\n",
    "    print(n*n)"
   ]
  },
  {
   "cell_type": "code",
   "execution_count": null,
   "metadata": {},
   "outputs": [
    {
     "name": "stdout",
     "output_type": "stream",
     "text": [
      "2\n"
     ]
    }
   ],
   "source": [
    "#14.if last val of a digit is > 5 perform bitwise right shift with skipping val as 2\n",
    "n=128\n",
    "m=n%10\n",
    "if m > 5:\n",
    "    print(m>>2)\n"
   ]
  },
  {
   "cell_type": "code",
   "execution_count": null,
   "metadata": {},
   "outputs": [
    {
     "name": "stdout",
     "output_type": "stream",
     "text": [
      "729\n"
     ]
    }
   ],
   "source": [
    "#15.if the given is divisible by 3 and < 30 print square of that number\n",
    "n=27\n",
    "if n%3==0 and n<30:\n",
    "    print(n**2)"
   ]
  },
  {
   "cell_type": "code",
   "execution_count": null,
   "metadata": {},
   "outputs": [
    {
     "name": "stdout",
     "output_type": "stream",
     "text": [
      "46656\n"
     ]
    }
   ],
   "source": [
    "#16.to check the given val is even and divisible by 4 if so we need to print the cube of that number\n",
    "n=36\n",
    "if n%2==0 and n%4==0:\n",
    "    print(n**3)"
   ]
  },
  {
   "cell_type": "code",
   "execution_count": null,
   "metadata": {},
   "outputs": [
    {
     "name": "stdout",
     "output_type": "stream",
     "text": [
      "['3', '4', '5', '6']\n"
     ]
    }
   ],
   "source": [
    "#17. if the given num is even the we need to store the val into the list\n",
    "n=3456\n",
    "if n%2==0:\n",
    "    print(list(str(n)))"
   ]
  },
  {
   "cell_type": "code",
   "execution_count": null,
   "metadata": {},
   "outputs": [
    {
     "name": "stdout",
     "output_type": "stream",
     "text": [
      "4\n",
      "4\n"
     ]
    }
   ],
   "source": [
    "#18.if the given num is negative and even then we need to print the last digit of the given num\n",
    "n=-24\n",
    "if n%2==0 or n<0:\n",
    "    print(abs(n)%10)\n",
    "    print(n*(-1)%10)"
   ]
  },
  {
   "cell_type": "code",
   "execution_count": null,
   "metadata": {},
   "outputs": [
    {
     "name": "stdout",
     "output_type": "stream",
     "text": [
      "13824\n"
     ]
    }
   ],
   "source": [
    "#19.if the given num is negative or odd and divisible by 4 then print the cube of that num\n",
    "n=24\n",
    "if (n%2==0 or n<0) and n%4==0:\n",
    "    print(n**3)"
   ]
  },
  {
   "cell_type": "code",
   "execution_count": null,
   "metadata": {},
   "outputs": [
    {
     "name": "stdout",
     "output_type": "stream",
     "text": [
      "D\n"
     ]
    }
   ],
   "source": [
    "#20.if the ascii val is divisible by 4and even then return ascii char\n",
    "ch='D'\n",
    "if ord(ch)%4==0 and ord(ch)%2==0:\n",
    "    print(ch)\n"
   ]
  },
  {
   "cell_type": "code",
   "execution_count": null,
   "metadata": {},
   "outputs": [
    {
     "name": "stdout",
     "output_type": "stream",
     "text": [
      "P\n"
     ]
    }
   ],
   "source": [
    "#21.to check the val is btw 45 and 125 and divisible by 4 and 5 and even num should return the ascii char\n",
    "ch='P'\n",
    "if 45<=ord(ch)<=125 and ord(ch)%4==0 and ord(ch)%2==0 and ord(ch)%5==0:\n",
    "    print(ch)"
   ]
  },
  {
   "cell_type": "code",
   "execution_count": null,
   "metadata": {},
   "outputs": [
    {
     "name": "stdout",
     "output_type": "stream",
     "text": [
      "200\n"
     ]
    }
   ],
   "source": [
    "#22. to check the val is btw 25 to 100 and divisible by 4 and 5 if yes should return the multiply the val with 5\n",
    "ch=40\n",
    "if ch%4==0 and ch%5==0:\n",
    "    print(ch*5)"
   ]
  },
  {
   "cell_type": "code",
   "execution_count": null,
   "metadata": {},
   "outputs": [
    {
     "name": "stdout",
     "output_type": "stream",
     "text": [
      "True\n"
     ]
    }
   ],
   "source": [
    "#23.to check the given num is int and odd if yes divisible by 5 and print the result\n",
    "n=25\n",
    "if type(n)==int and n%2==1:\n",
    "    print(n%5==0)"
   ]
  },
  {
   "cell_type": "code",
   "execution_count": null,
   "metadata": {},
   "outputs": [
    {
     "name": "stdout",
     "output_type": "stream",
     "text": [
      "78\n"
     ]
    }
   ],
   "source": [
    "#24.to check the given num is int or not if yes convert to str\n",
    "n=78\n",
    "if type(n)==int:\n",
    "    print(str(n))"
   ]
  },
  {
   "cell_type": "code",
   "execution_count": null,
   "metadata": {},
   "outputs": [
    {
     "name": "stdout",
     "output_type": "stream",
     "text": [
      "5\n",
      "w\n"
     ]
    }
   ],
   "source": [
    "#25.to check the given val is < 125 and >60 if yes we need to take a name nd extract middle char\n",
    "n=78\n",
    "ch=\"helloworld\"\n",
    "if 60<=n<=125:\n",
    "    print(len(ch)//2)\n",
    "    print(ch[5])"
   ]
  },
  {
   "cell_type": "code",
   "execution_count": null,
   "metadata": {},
   "outputs": [
    {
     "name": "stdout",
     "output_type": "stream",
     "text": [
      "68\n"
     ]
    }
   ],
   "source": [
    "#26.if given 2 int are same then we need to add them\n",
    "n1=34\n",
    "n2=34\n",
    "if n1==n2:\n",
    "    print(n1+n2)"
   ]
  },
  {
   "cell_type": "code",
   "execution_count": null,
   "metadata": {},
   "outputs": [
    {
     "name": "stdout",
     "output_type": "stream",
     "text": [
      "True\n"
     ]
    }
   ],
   "source": [
    "#27.to check 2 int r same or not if yes then we need multiply them and the res should be divisible by 3\n",
    "n1=21\n",
    "n2=21\n",
    "if n1==n2:\n",
    "    res=n1*n2\n",
    "    print(res%3==0)"
   ]
  },
  {
   "cell_type": "code",
   "execution_count": null,
   "metadata": {},
   "outputs": [
    {
     "name": "stdout",
     "output_type": "stream",
     "text": [
      "{'A': 65}\n"
     ]
    }
   ],
   "source": [
    "#28. to check given val is alphabet or not if yes need to store in dict\n",
    "ch='A'\n",
    "if ch in 'A'<= ch <='Z' or 'a'<= ch <= 'z':\n",
    "    print({ch:ord(ch)})"
   ]
  },
  {
   "cell_type": "code",
   "execution_count": null,
   "metadata": {},
   "outputs": [
    {
     "name": "stdout",
     "output_type": "stream",
     "text": [
      "{'d': 100}\n"
     ]
    }
   ],
   "source": [
    "#29. if given char is upper need to convert to lower and should store in dict \n",
    "ch='D'\n",
    "if 'A'<= ch <= 'Z':\n",
    "    print({chr(ord(ch)+32):ord(chr(ord(ch)+32))})"
   ]
  },
  {
   "cell_type": "code",
   "execution_count": null,
   "metadata": {},
   "outputs": [
    {
     "name": "stdout",
     "output_type": "stream",
     "text": [
      "22 is a even number\n"
     ]
    }
   ],
   "source": [
    "#33.to check a num even or not\n",
    "n=22\n",
    "if n%2==0:\n",
    "    print(n,\"is a even number\")"
   ]
  },
  {
   "cell_type": "code",
   "execution_count": 19,
   "metadata": {},
   "outputs": [
    {
     "name": "stdout",
     "output_type": "stream",
     "text": [
      "484\n"
     ]
    }
   ],
   "source": [
    "#34.take 2 num if any num is 10 or sum is 10 then we need to print square\n",
    "a=10\n",
    "b=12 \n",
    "if a==10 or b==10 or a+b==10:\n",
    "    c=a+b\n",
    "    print(c**2)"
   ]
  },
  {
   "cell_type": "code",
   "execution_count": 18,
   "metadata": {},
   "outputs": [
    {
     "name": "stdout",
     "output_type": "stream",
     "text": [
      "F\n"
     ]
    }
   ],
   "source": [
    "#35.to check char is vowel or not if yes print nxt char\n",
    "ch='E'\n",
    "if ch in 'AEIOUaeiou':\n",
    "    print(chr(ord(ch)+1))"
   ]
  },
  {
   "cell_type": "code",
   "execution_count": null,
   "metadata": {},
   "outputs": [
    {
     "name": "stdout",
     "output_type": "stream",
     "text": [
      "e\n"
     ]
    }
   ],
   "source": [
    "#36.to check char is vowel or not if no print prev char\n",
    "ch='f'\n",
    "if ch not in 'AEIOUaeiou':\n",
    "    print(chr(ord(ch)-1))"
   ]
  },
  {
   "cell_type": "code",
   "execution_count": null,
   "metadata": {},
   "outputs": [
    {
     "name": "stdout",
     "output_type": "stream",
     "text": [
      "(5+12j) it is a single valued data type\n"
     ]
    }
   ],
   "source": [
    "#37.to check the given val is single val datatype\n",
    "n=5+12j\n",
    "if type(n) in [int,float,bool,complex]:\n",
    "    print(n,\"it is a single valued data type\")"
   ]
  },
  {
   "cell_type": "code",
   "execution_count": null,
   "metadata": {},
   "outputs": [
    {
     "name": "stdout",
     "output_type": "stream",
     "text": [
      "(10, 20, 'a', 'abc')\n"
     ]
    }
   ],
   "source": [
    "#38.to check the given val is multi-valued if yes convert it into tuple\n",
    "l1=[10,20,'a','abc']\n",
    "if type(l1) in [list,tuple,set,dict]:\n",
    "    print(tuple(l1))"
   ]
  },
  {
   "cell_type": "code",
   "execution_count": null,
   "metadata": {},
   "outputs": [
    {
     "name": "stdout",
     "output_type": "stream",
     "text": [
      "{10, 'abc', 20, 'a'}\n"
     ]
    }
   ],
   "source": [
    "#39. to check whether it is a immutable data tpe if yes convert it into tuple\n",
    "s1=(10,20,'a','abc')\n",
    "if type(s1) in [tuple,str]:\n",
    "    print(set(s1))"
   ]
  },
  {
   "cell_type": "code",
   "execution_count": null,
   "metadata": {},
   "outputs": [
    {
     "name": "stdout",
     "output_type": "stream",
     "text": [
      "it is odd\n"
     ]
    }
   ],
   "source": [
    "#40.to check whether the given element middle val is odd if yes then we need to print odd\n",
    "l=[10,20,30,45,60,56]\n",
    "l1=len(l)//2\n",
    "if (l[3]%2==1):\n",
    "    print('it is odd')"
   ]
  },
  {
   "cell_type": "code",
   "execution_count": null,
   "metadata": {},
   "outputs": [
    {
     "name": "stdout",
     "output_type": "stream",
     "text": [
      "notabcd\n"
     ]
    }
   ],
   "source": [
    "#41.if there is no not prefixed to the given str then we need to add at starting\n",
    "str='abcd'\n",
    "if not str.startswith('not'):\n",
    "    new_str='not'+str\n",
    "    print(new_str)\n",
    "\n",
    "    #str='not a desktop'\n",
    "    #if 'not'!=st[0:3]:\n",
    "    #res='not'+str\n",
    "    #print(res)\n",
    "else:\n",
    "    print()\n",
    "\n"
   ]
  },
  {
   "cell_type": "code",
   "execution_count": 6,
   "metadata": {},
   "outputs": [
    {
     "name": "stdout",
     "output_type": "stream",
     "text": [
      "goodorning\n"
     ]
    }
   ],
   "source": [
    "#42.\n",
    "n1=input(\"enter a str\")\n",
    "index=int(input(\"enter a index\"))\n",
    "if len(n1)!=0 and 0<=index<=len(n1)-1 and type(index)==int:\n",
    "    new_str=n1[:index]+n1[index+1:]\n",
    "    print(new_str)"
   ]
  },
  {
   "cell_type": "code",
   "execution_count": null,
   "metadata": {},
   "outputs": [
    {
     "name": "stdout",
     "output_type": "stream",
     "text": [
      "140703584478696\n",
      "140703584478696\n"
     ]
    }
   ],
   "source": [
    "#43.\n",
    "n1=23\n",
    "n2=23\n",
    "if n1 is n2:\n",
    "    print(id(n1))\n",
    "    print(id(n2))"
   ]
  },
  {
   "cell_type": "code",
   "execution_count": 6,
   "metadata": {},
   "outputs": [
    {
     "name": "stdout",
     "output_type": "stream",
     "text": [
      "pyspid\n"
     ]
    }
   ],
   "source": [
    "#44.\n",
    "ch='pyspider'\n",
    "if len(ch)%2==0:\n",
    "    print(ch[:len(ch)-2])"
   ]
  },
  {
   "cell_type": "code",
   "execution_count": 8,
   "metadata": {},
   "outputs": [
    {
     "name": "stdout",
     "output_type": "stream",
     "text": [
      "n is good\n",
      "m is morning\n"
     ]
    }
   ],
   "source": [
    "#45.\n",
    "m='good'\n",
    "n='morning'\n",
    "if n!=m:\n",
    "    m,n=n,m\n",
    "    print('n is',n)\n",
    "    print('m is',m)"
   ]
  },
  {
   "cell_type": "code",
   "execution_count": 15,
   "metadata": {},
   "outputs": [
    {
     "name": "stdout",
     "output_type": "stream",
     "text": [
      "{'&': 38}\n"
     ]
    }
   ],
   "source": [
    "#46.\n",
    "ch='&'\n",
    "m={}\n",
    "if not ('A'<=ch<='Z' or 'a'<= ch <= 'z' or '0'<= ch <= '9'):\n",
    "    m[ch]=ord(ch)\n",
    "    print(m)"
   ]
  },
  {
   "cell_type": "code",
   "execution_count": 16,
   "metadata": {},
   "outputs": [
    {
     "name": "stdout",
     "output_type": "stream",
     "text": [
      "{10: 'a', 20: 'b', 30: 'c', 40: 'd'}\n"
     ]
    }
   ],
   "source": [
    "#47.\n",
    "d={10:'a',20:'b',30:'c'}\n",
    "n=40\n",
    "if n not in d:\n",
    "    d[n]='d'\n",
    "    print(d)"
   ]
  },
  {
   "cell_type": "code",
   "execution_count": 17,
   "metadata": {},
   "outputs": [
    {
     "name": "stdout",
     "output_type": "stream",
     "text": [
      "good morning\n"
     ]
    }
   ],
   "source": [
    "#48.\n",
    "n='good morning'\n",
    "if type(n)==str:\n",
    "    n=n[-1]+n[1:-1]+n[0]\n",
    "    print(n)"
   ]
  },
  {
   "cell_type": "code",
   "execution_count": 13,
   "metadata": {},
   "outputs": [
    {
     "name": "stdout",
     "output_type": "stream",
     "text": [
      "68\n"
     ]
    }
   ],
   "source": [
    "#32. to check whether a char is in ascii number or not if yes we need to convert into int\n",
    "ch='D'\n",
    "if 0<=ord(ch)<=127:\n",
    "    print(int(ord(ch)))"
   ]
  },
  {
   "cell_type": "code",
   "execution_count": 14,
   "metadata": {},
   "outputs": [
    {
     "name": "stdout",
     "output_type": "stream",
     "text": [
      "68\n"
     ]
    }
   ],
   "source": [
    "#33.special char\n",
    "n=\"@\"\n",
    "if n not in ['A'<=ch<='Z'or'a'<=ch<='z'or '0'<=ch<='9']:\n",
    "    print(ord(ch))"
   ]
  },
  {
   "cell_type": "code",
   "execution_count": 10,
   "metadata": {},
   "outputs": [
    {
     "name": "stdout",
     "output_type": "stream",
     "text": [
      "doog\n"
     ]
    }
   ],
   "source": [
    "#50\n",
    "s1=input()\n",
    "if type(s1)==str:\n",
    "    print(s1[-1]+s1[1:len(s1)-1]+s1[0])\n"
   ]
  },
  {
   "cell_type": "code",
   "execution_count": null,
   "metadata": {},
   "outputs": [],
   "source": []
  },
  {
   "cell_type": "code",
   "execution_count": null,
   "metadata": {},
   "outputs": [],
   "source": []
  }
 ],
 "metadata": {
  "kernelspec": {
   "display_name": "Python 3",
   "language": "python",
   "name": "python3"
  },
  "language_info": {
   "codemirror_mode": {
    "name": "ipython",
    "version": 3
   },
   "file_extension": ".py",
   "mimetype": "text/x-python",
   "name": "python",
   "nbconvert_exporter": "python",
   "pygments_lexer": "ipython3",
   "version": "3.11.4"
  },
  "orig_nbformat": 4
 },
 "nbformat": 4,
 "nbformat_minor": 2
}
