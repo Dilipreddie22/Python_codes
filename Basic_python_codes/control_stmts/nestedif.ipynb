{
 "cells": [
  {
   "cell_type": "code",
   "execution_count": 17,
   "metadata": {},
   "outputs": [
    {
     "name": "stdout",
     "output_type": "stream",
     "text": [
      "{(10, 20, 'a')}\n"
     ]
    }
   ],
   "source": [
    "#wap to check the given char is alphabet or not if yes we need to check whether it is upper or lower case if upper convert to lower and vice-versa\n",
    "#if the given char is ascii val then store that ascii val and char in a str if it is special char to display prev,present,next char if in case not a\n",
    "#a char store the val inside the set\n",
    "ch=[10,20,'a']\n",
    "st=\"\"\n",
    "d=set()\n",
    "if type(ch)==str and len(ch)==1:\n",
    "    if 'A'<=ch<='Z' or 'a'<=ch<='z':\n",
    "        if 'A'<=ch<='Z':\n",
    "            print(chr(ord(ch)+32))\n",
    "        else:\n",
    "            print(chr(ord(ch)-32))\n",
    "    elif '0'<=ch<='9':\n",
    "        st=ch+str(ord(ch))\n",
    "        print(st)\n",
    "    else:\n",
    "        print(chr(ord(ch)-1),ch,chr(ord(ch)+1))\n",
    "else:\n",
    "    if type(ch) in [list,tuple,set,dict]:\n",
    "        d={tuple(ch)}\n",
    "        print(d)\n",
    "    else:\n",
    "        d|={ch}\n",
    "        print(d)\n"
   ]
  },
  {
   "cell_type": "code",
   "execution_count": 17,
   "metadata": {},
   "outputs": [],
   "source": [
    "#wap to check given 2 values are same collections or not,if yes to check 2 collections are list or not if it is list to concat both the collections without\n",
    "#changing the 1st collection address,if given collection is a dict to modify the 1st dict by the help of 2nd dict without change the 1st dict address\n",
    "#if both collections are not same to concat the both collections,if incase both the values are numbers to perform multiplication,if if any of one val is \n",
    "# bool or None to perform the convert into str,if both the val are complex to extract only imaginary val and output should be complex,if both values are \n",
    "#bytes to display ascii val without using ord..\n",
    "#l1={'p':10,'q':20}\n",
    "#print(id(l1))\n",
    "#l2={'r':100,'b':120}\n",
    "#l1=[10,20,30]\n",
    "#l2=['a','b','c']\n",
    "#l1=True\n",
    "#l2=None\n",
    "#l1=(10,20,30)\n",
    "#l2={1,2,3}\n",
    "l1=b'10101'\n",
    "l2=b'11010'\n",
    "#l1=2+5j\n",
    "#l2=4+7j\n",
    "if type(l1)==type(l2):\n",
    "    if type(l1)==list and type(l2)==list:\n",
    "        l1+=l2\n",
    "        print(l1)\n",
    "    elif type(l1)==dict and type(l2)==dict:\n",
    "       l1|=l2\n",
    "       print(l1,id(l1))\n",
    "    else:\n",
    "    if type(l1)!=type(l2) and type(l1) not in [tuple,set] and type(l2) not in [tuple,set]:\n",
    "        l1+=l2\n",
    "        print(l1)\n",
    "    elif type(l1) in [tuple,set] and type(l2) in [tuple,set]:\n",
    "            l=set(l1)\n",
    "            l|=l2\n",
    "            print(l)\n",
    "    elif type(l1)==dict or type(l2)==dict:\n",
    "         p=list(l1)\n",
    "         q=list(l2)\n",
    "         p+=q\n",
    "         print(p)\n",
    "elif type(l1) in [int,float] and type(l2) in [int,float]:\n",
    "    print(l1*l2)\n",
    "elif type(l1) in [bool,type(None)] or type(l2) in [bool,type(None)]:\n",
    "    print(str(l1),str(l2))\n",
    "elif type(l1)==complex and type(l2)==complex:\n",
    "    print(complex(imag=l1.imag),complex(imag=l2.imag))\n",
    "    print(type(l1))\n",
    "    print(type(l2))\n",
    "elif type(l1)==bytes and type(l2)==bytes:\n",
    "    print(list(l1),list(l2))"
   ]
  },
  {
   "cell_type": "code",
   "execution_count": null,
   "metadata": {},
   "outputs": [],
   "source": []
  }
 ],
 "metadata": {
  "kernelspec": {
   "display_name": "Python 3",
   "language": "python",
   "name": "python3"
  },
  "language_info": {
   "codemirror_mode": {
    "name": "ipython",
    "version": 3
   },
   "file_extension": ".py",
   "mimetype": "text/x-python",
   "name": "python",
   "nbconvert_exporter": "python",
   "pygments_lexer": "ipython3",
   "version": "3.11.4"
  },
  "orig_nbformat": 4
 },
 "nbformat": 4,
 "nbformat_minor": 2
}
