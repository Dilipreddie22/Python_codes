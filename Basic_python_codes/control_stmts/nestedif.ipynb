{
 "cells": [
  {
   "cell_type": "code",
   "execution_count": 17,
   "metadata": {},
   "outputs": [
    {
     "name": "stdout",
     "output_type": "stream",
     "text": [
      "{(10, 20, 'a')}\n"
     ]
    }
   ],
   "source": [
    "#wap to check the given char is alphabet or not if yes we need to check whether it is upper or lower case if upper convert to lower and vice-versa\n",
    "#if the given char is ascii val then store that ascii val and char in a str if it is special char to display prev,present,next char if in case not a\n",
    "#a char store the val inside the set\n",
    "ch=[10,20,'a']\n",
    "st=\"\"\n",
    "d=set()\n",
    "if type(ch)==str and len(ch)==1:\n",
    "    if 'A'<=ch<='Z' or 'a'<=ch<='z':\n",
    "        if 'A'<=ch<='Z':\n",
    "            print(chr(ord(ch)+32))\n",
    "        else:\n",
    "            print(chr(ord(ch)-32))\n",
    "    elif '0'<=ch<='9':\n",
    "        st=ch+str(ord(ch))\n",
    "        print(st)\n",
    "    else:\n",
    "        print(chr(ord(ch)-1),ch,chr(ord(ch)+1))\n",
    "else:\n",
    "    if type(ch) in [list,tuple,set,dict]:\n",
    "        d={tuple(ch)}\n",
    "        print(d)\n",
    "    else:\n",
    "        d|={ch}\n",
    "        print(d)\n"
   ]
  },
  {
   "cell_type": "code",
   "execution_count": 87,
   "metadata": {},
   "outputs": [
    {
     "ename": "SyntaxError",
     "evalue": "invalid syntax (946451199.py, line 30)",
     "output_type": "error",
     "traceback": [
      "\u001b[1;36m  Cell \u001b[1;32mIn[87], line 30\u001b[1;36m\u001b[0m\n\u001b[1;33m    elif type(l1) in [tuple,set] and type(l2) in [tuple,set]:\u001b[0m\n\u001b[1;37m    ^\u001b[0m\n\u001b[1;31mSyntaxError\u001b[0m\u001b[1;31m:\u001b[0m invalid syntax\n"
     ]
    }
   ],
   "source": [
    "#wap to check given 2 values are same collections or not,if yes to check 2 collections are list or not if it is list to concat both the collections without\n",
    "#changing the 1st collection address,if given collection is a dict to modify the 1st dict by the help of 2nd dict without change the 1st dict address\n",
    "#if both collections are not same to concat the both collections,if incase both the values are numbers to perform multiplication,if if any of one val is \n",
    "# bool or None to perform the convert into str,if both the val are complex to extract only imaginary val and output should be complex,if both values are \n",
    "#bytes to display ascii val without using ord..\n",
    "#l1={'p':10,'q':20}\n",
    "#print(id(l1))\n",
    "#l2={'r':100,'b':120}\n",
    "#l1=[10,20,30]\n",
    "#l2=['a','b','c']\n",
    "#l1=True\n",
    "#l2=None\n",
    "#l1=(10,20,30)\n",
    "#l2={1,2,3}\n",
    "l1=b'10101'\n",
    "l2=b'11010'\n",
    "#l1=2+5j\n",
    "#l2=4+7j\n",
    "if type(l1)==type(l2):\n",
    "    if type(l1)==list and type(l2)==list:\n",
    "        l1+=l2\n",
    "        print(l1)\n",
    "    elif type(l1)==dict and type(l2)==dict:\n",
    "        l1|=l2\n",
    "        print(l1,id(l1))\n",
    "    else:\n",
    "        if type(l1)!=type(l2) and type(l1) not in [tuple,set] and type(l2) not in [tuple,set]:\n",
    "            l1+=l2\n",
    "            print(l1)\n",
    "    elif type(l1) in [tuple,set] and type(l2) in [tuple,set]:\n",
    "        l=set(l1)\n",
    "        l|=l2\n",
    "        print(l)\n",
    "    elif type(l1)==dict or type(l2)==dict:\n",
    "        p=list(l1)\n",
    "        q=list(l2)\n",
    "        p+=q\n",
    "        print(p)\n",
    "elif type(l1) in [int,float] and type(l2) in [int,float]:\n",
    "    print(l1*l2)\n",
    "elif type(l1) in [bool,type(None)] or type(l2) in [bool,type(None)]:\n",
    "    print(str(l1),str(l2))\n",
    "elif type(l1)==complex and type(l2)==complex:\n",
    "    print(complex(imag=l1.imag),complex(imag=l2.imag))\n",
    "    print(type(l1))\n",
    "    print(type(l2))\n",
    "elif type(l1)==bytes and type(l2)==bytes:\n",
    "    print(list(l1),list(l2))"
   ]
  },
  {
   "cell_type": "code",
   "execution_count": 9,
   "metadata": {},
   "outputs": [
    {
     "name": "stdout",
     "output_type": "stream",
     "text": [
      "9\n"
     ]
    }
   ],
   "source": [
    "#WAP to check whether a given character is alphabet or not,\n",
    "#if alphabet to check the given alphabet character is uppercase or not,\n",
    "#if uppercase, to check vowel or not, if vowel to display the next character of given\n",
    "#character, if lowercase, to convert to uppercase and display the character,\n",
    "#or else the given character is not an alphabet, then to check if the given character\n",
    "#is an ascii number or special character, and display the result.\n",
    "ch='9'\n",
    "if 'a'<=ch<='z'  or 'A'<=ch<='Z':\n",
    "    if 'A'<=ch<='Z':\n",
    "        if ch in 'AEIOU':\n",
    "            ch1=chr(ord(ch)+1)\n",
    "            print(ch1)\n",
    "    elif 'a'<=ch<='z':\n",
    "        ch1=chr(ord(ch)-32)\n",
    "        print(ch1)\n",
    "elif not 'a'<=ch<='z' or 'A'<=ch<='Z':\n",
    "    if '0'<=ch<='9' or not 'a'<=ch<='z' or 'A'<=ch<='Z':\n",
    "        print(ch)\n"
   ]
  },
  {
   "cell_type": "code",
   "execution_count": 11,
   "metadata": {},
   "outputs": [
    {
     "name": "stdout",
     "output_type": "stream",
     "text": [
      "1384.74\n"
     ]
    }
   ],
   "source": [
    "#WAP to check whether the given number is even or odd if even, to check whether given value is divisible by 4 or not, if divisible, to display\n",
    "#the square of the number, if number is odd, to check whether given number is divisible by 3 and 7 or not,If the condition is satisfied, \n",
    "#display the area of the circle.\n",
    "n=int(input())\n",
    "if n%2==0:\n",
    "    if n%4==0:\n",
    "        print(n**2)\n",
    "elif n%2!=0:\n",
    "    if n%3==0 and n%7==0:\n",
    "        print(3.14*(n**2))"
   ]
  },
  {
   "cell_type": "code",
   "execution_count": 1,
   "metadata": {},
   "outputs": [
    {
     "name": "stdout",
     "output_type": "stream",
     "text": [
      "2\n"
     ]
    }
   ],
   "source": [
    "#WAP to check whether a given value is a int or float or string or other, if int, given value division by 5 and display the quotient,if float, perform the \n",
    "#bitwise or operation with 15, if string, extract for last position value and store it in first positions of the string, else store the value in the list and \n",
    "#display the result.\n",
    "n=10\n",
    "#n={10:'a','b':20}\n",
    "if type(n) in [int,float,str]:\n",
    "    if type(n)==int:\n",
    "        print(n//5)\n",
    "    if type(n)==float:\n",
    "        n1=int(n)|15\n",
    "        print(n1)\n",
    "    if type(n)==str:\n",
    "        n1=n[-1]\n",
    "        n2=n1+n[0:len(n)-1]\n",
    "        print(n2)\n",
    "elif type(n) in [list,tuple,set,dict]:\n",
    "    n1=list(n)\n",
    "    print(n1)"
   ]
  },
  {
   "cell_type": "code",
   "execution_count": 82,
   "metadata": {},
   "outputs": [
    {
     "data": {
      "text/plain": [
       "'RAJAranvijay'"
      ]
     },
     "execution_count": 82,
     "metadata": {},
     "output_type": "execute_result"
    }
   ],
   "source": [
    "G = ([1,2,3,45], (\"raja\"), [10,20, (30)], [\"vinay\",450, {11,11}, (50)])\n",
    "a=str(G[1].upper())+G[1][0:2]+G[3][0][2]+G[3][0][0:2]+G[1][2:]+G[3][0][-1]\n",
    "a"
   ]
  },
  {
   "cell_type": "code",
   "execution_count": 83,
   "metadata": {},
   "outputs": [
    {
     "ename": "SyntaxError",
     "evalue": "':' expected after dictionary key (3963238795.py, line 1)",
     "output_type": "error",
     "traceback": [
      "\u001b[1;36m  Cell \u001b[1;32mIn[83], line 1\u001b[1;36m\u001b[0m\n\u001b[1;33m    d=[{\"RAJA\":{'s':'sagar','a':'ajay','S':{\"raja\",\"sahi\"}},[[100,200,(300,)],500,'ranvijay',(100,'vijay',[10000,20000])],{(10,(20,))}}]\u001b[0m\n\u001b[1;37m                                                                                                                        ^\u001b[0m\n\u001b[1;31mSyntaxError\u001b[0m\u001b[1;31m:\u001b[0m ':' expected after dictionary key\n"
     ]
    }
   ],
   "source": [
    "d=[{\"RAJA\":{'s':'sagar','a':'ajay','S':{\"raja\",\"sahi\"}},[[100,200,(300,)],500,'ranvijay',(100,'vijay',[10000,20000])],{(10,(20,))}}]"
   ]
  },
  {
   "cell_type": "code",
   "execution_count": null,
   "metadata": {},
   "outputs": [],
   "source": []
  }
 ],
 "metadata": {
  "kernelspec": {
   "display_name": "Python 3",
   "language": "python",
   "name": "python3"
  },
  "language_info": {
   "codemirror_mode": {
    "name": "ipython",
    "version": 3
   },
   "file_extension": ".py",
   "mimetype": "text/x-python",
   "name": "python",
   "nbconvert_exporter": "python",
   "pygments_lexer": "ipython3",
   "version": "3.11.4"
  },
  "orig_nbformat": 4
 },
 "nbformat": 4,
 "nbformat_minor": 2
}
