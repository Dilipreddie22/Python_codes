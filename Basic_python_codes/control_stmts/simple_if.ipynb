{
 "cells": [
  {
   "cell_type": "code",
   "execution_count": 3,
   "metadata": {},
   "outputs": [
    {
     "name": "stdout",
     "output_type": "stream",
     "text": [
      "start\n",
      "hello world\n",
      "stop\n"
     ]
    }
   ],
   "source": [
    "print(\"start\")\n",
    "if None==None:\n",
    "    print(\"hello world\")\n",
    "print(\"stop\")"
   ]
  },
  {
   "cell_type": "code",
   "execution_count": 4,
   "metadata": {},
   "outputs": [
    {
     "name": "stdout",
     "output_type": "stream",
     "text": [
      "start\n",
      "stop\n"
     ]
    }
   ],
   "source": [
    "print(\"start\") #it will consider as default value\n",
    "if None:\n",
    "    print(\"hello world\")\n",
    "print(\"stop\")"
   ]
  },
  {
   "cell_type": "code",
   "execution_count": 5,
   "metadata": {},
   "outputs": [
    {
     "name": "stdout",
     "output_type": "stream",
     "text": [
      "start\n",
      "stop\n"
     ]
    }
   ],
   "source": [
    "print(\"start\")\n",
    "if 10+20==True: #30!=1\n",
    "    print(\"hello world\")\n",
    "print(\"stop\")"
   ]
  },
  {
   "cell_type": "code",
   "execution_count": 12,
   "metadata": {},
   "outputs": [
    {
     "name": "stdout",
     "output_type": "stream",
     "text": [
      "start\n",
      "stop\n"
     ]
    }
   ],
   "source": [
    "print(\"start\")\n",
    "if 10<20==True: #based on priority i.e., 'BODMAS' rule so == operator will execute 1st later <\n",
    "    print(\"hello world\") \n",
    "print(\"stop\")"
   ]
  },
  {
   "cell_type": "code",
   "execution_count": 7,
   "metadata": {},
   "outputs": [
    {
     "name": "stdout",
     "output_type": "stream",
     "text": [
      "start\n",
      "hello world\n",
      "stop\n"
     ]
    }
   ],
   "source": [
    "print(\"start\")\n",
    "if (10<20)==True:\n",
    "    print(\"hello world\") #based on priority i.e., 'BODMAS' rule () has more priority\n",
    "print(\"stop\")"
   ]
  },
  {
   "cell_type": "code",
   "execution_count": 8,
   "metadata": {},
   "outputs": [
    {
     "name": "stdout",
     "output_type": "stream",
     "text": [
      "start\n",
      "hello world\n",
      "stop\n"
     ]
    }
   ],
   "source": [
    "print(\"start\")\n",
    "if True:\n",
    "    print(\"hello world\")\n",
    "print(\"stop\")"
   ]
  },
  {
   "cell_type": "code",
   "execution_count": 9,
   "metadata": {},
   "outputs": [
    {
     "name": "stdout",
     "output_type": "stream",
     "text": [
      "start\n",
      "stop\n"
     ]
    }
   ],
   "source": [
    "print(\"start\")\n",
    "if False:\n",
    "    print(\"hello world\")\n",
    "print(\"stop\")"
   ]
  },
  {
   "cell_type": "code",
   "execution_count": 10,
   "metadata": {},
   "outputs": [
    {
     "name": "stdout",
     "output_type": "stream",
     "text": [
      "start\n",
      "stop\n"
     ]
    }
   ],
   "source": [
    "print(\"start\")\n",
    "if []: #default value\n",
    "    print(\"hello world\")\n",
    "print(\"stop\")"
   ]
  },
  {
   "cell_type": "code",
   "execution_count": 11,
   "metadata": {},
   "outputs": [
    {
     "name": "stdout",
     "output_type": "stream",
     "text": [
      "start\n",
      "hello world\n",
      "stop\n"
     ]
    }
   ],
   "source": [
    "print(\"start\")\n",
    "if [10]: #non-default vale\n",
    "    print(\"hello world\")\n",
    "print(\"stop\")"
   ]
  },
  {
   "cell_type": "code",
   "execution_count": 17,
   "metadata": {},
   "outputs": [
    {
     "name": "stdout",
     "output_type": "stream",
     "text": [
      "b is greater than a\n"
     ]
    }
   ],
   "source": [
    "a=10\n",
    "b=20\n",
    "if (a>b):\n",
    "    print(\"a is greater than b\") #based on priority i.e., 'BODMAS' rule () has more priority\n",
    "print(\"b is greater than a\")"
   ]
  },
  {
   "cell_type": "code",
   "execution_count": 49,
   "metadata": {},
   "outputs": [
    {
     "name": "stdout",
     "output_type": "stream",
     "text": [
      "negative number\n"
     ]
    }
   ],
   "source": [
    "n=int(input(\"enter a number\")) #to check the given value is +ve or -ve\n",
    "if n>0:\n",
    "    print(\"positive value\")\n",
    "elif n==0:\n",
    "    print(n,\"is non-negative nor positive\")\n",
    "else:\n",
    "    print(\"negative number\")"
   ]
  },
  {
   "cell_type": "code",
   "execution_count": 32,
   "metadata": {},
   "outputs": [
    {
     "name": "stdout",
     "output_type": "stream",
     "text": [
      "22 is a even number\n"
     ]
    }
   ],
   "source": [
    "n=22 #to check even or not\n",
    "if n%2==0:\n",
    "    print(n,\"is a even number\")"
   ]
  },
  {
   "cell_type": "code",
   "execution_count": 34,
   "metadata": {},
   "outputs": [
    {
     "name": "stdout",
     "output_type": "stream",
     "text": [
      "89 is a odd number\n"
     ]
    }
   ],
   "source": [
    "n=89 #to check odd or not\n",
    "if n%2==1:\n",
    "    print(f\"{n} is a odd number\") #f=format it will work dynamically"
   ]
  },
  {
   "cell_type": "code",
   "execution_count": 56,
   "metadata": {},
   "outputs": [
    {
     "name": "stdout",
     "output_type": "stream",
     "text": [
      "3 is less than 5\n"
     ]
    }
   ],
   "source": [
    "#wap to check whether the last digit of the given number is greater than 5 or not\n",
    "n=123\n",
    "m=n%10\n",
    "if m>=5:\n",
    "    print(f\"{m} is greater than 5\")\n",
    "else:\n",
    "    print(f\"{m} is less than 5\")"
   ]
  },
  {
   "cell_type": "code",
   "execution_count": 57,
   "metadata": {},
   "outputs": [
    {
     "name": "stdout",
     "output_type": "stream",
     "text": [
      "greatest\n"
     ]
    }
   ],
   "source": [
    "n=128\n",
    "if n%10>5:\n",
    "    print(\"greatest\")"
   ]
  },
  {
   "cell_type": "code",
   "execution_count": 63,
   "metadata": {},
   "outputs": [
    {
     "name": "stdout",
     "output_type": "stream",
     "text": [
      "(36+0j)\n"
     ]
    }
   ],
   "source": [
    "#wap to check whether given value is divisible by 2 and 6 if true return to convert given number into complex\n",
    "n=36\n",
    "if n%2==0 and n%6==0:\n",
    "    res=(complex(n))\n",
    "    print(res)"
   ]
  },
  {
   "cell_type": "code",
   "execution_count": 72,
   "metadata": {},
   "outputs": [
    {
     "name": "stdout",
     "output_type": "stream",
     "text": [
      "P\n"
     ]
    }
   ],
   "source": [
    "#wap to check ghe given num is divisible by 4 and val should be range of 48-122 and val is even\n",
    "#if condition is true, to convert the val into character\n",
    "n=80\n",
    "if (48<=n<121 and n%4==0 and n%2==0):\n",
    "    print(chr(n))"
   ]
  },
  {
   "cell_type": "code",
   "execution_count": 132,
   "metadata": {},
   "outputs": [
    {
     "name": "stdout",
     "output_type": "stream",
     "text": [
      "[10, 20]\n"
     ]
    }
   ],
   "source": [
    "#wap to check the given val is mutable or not if it is mutable to store the value inside the list without changing existing address\n",
    "n=[10,20]\n",
    "m=[]\n",
    "if n in [list,set,dict]:\n",
    "    n+=[30,'a']\n",
    "print(m+n)"
   ]
  },
  {
   "cell_type": "code",
   "execution_count": 124,
   "metadata": {},
   "outputs": [
    {
     "name": "stdout",
     "output_type": "stream",
     "text": [
      "['a', 'b', 'c', {10, 20}]\n"
     ]
    }
   ],
   "source": [
    "n={10,20}\n",
    "temp=['a','b','c']\n",
    "if type(n) in [list,set,dict]:\n",
    "    temp+=[n] #append\n",
    "print(temp)\n"
   ]
  },
  {
   "cell_type": "code",
   "execution_count": 133,
   "metadata": {},
   "outputs": [
    {
     "name": "stdout",
     "output_type": "stream",
     "text": [
      "['a', 'b', 'c', 10, 20]\n"
     ]
    }
   ],
   "source": [
    "n={10,20}\n",
    "temp=['a','b','c']\n",
    "if type(n) in [list,set,dict]:\n",
    "    temp+=n #extend\n",
    "print(temp)"
   ]
  },
  {
   "cell_type": "code",
   "execution_count": 135,
   "metadata": {},
   "outputs": [
    {
     "data": {
      "text/plain": [
       "[10, 20, {'a', 'b'}]"
      ]
     },
     "execution_count": 135,
     "metadata": {},
     "output_type": "execute_result"
    }
   ],
   "source": [
    "l=[10,20]\n",
    "t={'a','b'}\n",
    "l.append(t)\n",
    "l"
   ]
  },
  {
   "cell_type": "code",
   "execution_count": 138,
   "metadata": {},
   "outputs": [
    {
     "data": {
      "text/plain": [
       "[10, 20, 'a', 'b']"
      ]
     },
     "execution_count": 138,
     "metadata": {},
     "output_type": "execute_result"
    }
   ],
   "source": [
    "l=[10,20]\n",
    "t={'a','b'}\n",
    "l.extend(t)\n",
    "l"
   ]
  },
  {
   "cell_type": "code",
   "execution_count": 140,
   "metadata": {},
   "outputs": [
    {
     "name": "stdout",
     "output_type": "stream",
     "text": [
      "['a', 'b', {10, 20}, 'c']\n"
     ]
    }
   ],
   "source": [
    "#insert the value in specific position\n",
    "n={10,20}\n",
    "temp=['a','b','c']\n",
    "if type(n) in [list,set,dict]:\n",
    "    temp[2:2]=[n] #insert\n",
    "print(temp)\n"
   ]
  },
  {
   "cell_type": "code",
   "execution_count": null,
   "metadata": {},
   "outputs": [],
   "source": []
  }
 ],
 "metadata": {
  "kernelspec": {
   "display_name": "Python 3",
   "language": "python",
   "name": "python3"
  },
  "language_info": {
   "codemirror_mode": {
    "name": "ipython",
    "version": 3
   },
   "file_extension": ".py",
   "mimetype": "text/x-python",
   "name": "python",
   "nbconvert_exporter": "python",
   "pygments_lexer": "ipython3",
   "version": "3.11.4"
  },
  "orig_nbformat": 4
 },
 "nbformat": 4,
 "nbformat_minor": 2
}
