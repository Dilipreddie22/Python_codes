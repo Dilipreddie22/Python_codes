{
 "cells": [
  {
   "cell_type": "code",
   "execution_count": 1,
   "metadata": {},
   "outputs": [
    {
     "name": "stdout",
     "output_type": "stream",
     "text": [
      "positive\n"
     ]
    }
   ],
   "source": [
    "#1. +ve -ve prgm\n",
    "n=int(input())\n",
    "if n>0:\n",
    "    print(\"positive\")\n",
    "else:\n",
    "    print(\"Negative\")\n"
   ]
  },
  {
   "cell_type": "code",
   "execution_count": 2,
   "metadata": {},
   "outputs": [
    {
     "name": "stdout",
     "output_type": "stream",
     "text": [
      "odd number\n"
     ]
    }
   ],
   "source": [
    "#2.even odd prgm\n",
    "n=int(input())\n",
    "if n%2==0:\n",
    "    print(\"even num\")\n",
    "else:\n",
    "    print(\"odd number\")"
   ]
  },
  {
   "cell_type": "code",
   "execution_count": 3,
   "metadata": {},
   "outputs": [
    {
     "name": "stdout",
     "output_type": "stream",
     "text": [
      "greater\n"
     ]
    }
   ],
   "source": [
    "#3. >10 0r n0t\n",
    "m=int(input())\n",
    "if m>10:\n",
    "    print(\"greater\")\n",
    "else:\n",
    "    print(\"not greater\")"
   ]
  },
  {
   "cell_type": "code",
   "execution_count": 5,
   "metadata": {},
   "outputs": [
    {
     "name": "stdout",
     "output_type": "stream",
     "text": [
      "Good morning\n"
     ]
    }
   ],
   "source": [
    "#4.2 inputs divisible by 3 and 5\n",
    "n=int(input())\n",
    "m=int(input())\n",
    "if n%3==0 and n%5==0 and m%3==0 and m%5==0 :\n",
    "    print(\"Good morning\")\n",
    "else:\n",
    "    print(\"good evening\")"
   ]
  },
  {
   "cell_type": "code",
   "execution_count": 6,
   "metadata": {},
   "outputs": [
    {
     "name": "stdout",
     "output_type": "stream",
     "text": [
      "1156\n"
     ]
    }
   ],
   "source": [
    "#5. to check 2 val are equal or not\n",
    "n=int(input())\n",
    "m=int(input())\n",
    "if n==m:\n",
    "    print(n*m)\n",
    "else:\n",
    "    print(n/m)"
   ]
  },
  {
   "cell_type": "code",
   "execution_count": 8,
   "metadata": {},
   "outputs": [
    {
     "name": "stdout",
     "output_type": "stream",
     "text": [
      "m is greater\n"
     ]
    }
   ],
   "source": [
    "#6.WAP to find the largest of two numbers.\n",
    "n=int(input())\n",
    "m=int(input())\n",
    "if n>m:\n",
    "    print(\"n is greater\")\n",
    "else:\n",
    "    print(\"m is greater\")"
   ]
  },
  {
   "cell_type": "code",
   "execution_count": 4,
   "metadata": {},
   "outputs": [
    {
     "name": "stdout",
     "output_type": "stream",
     "text": [
      "6\n"
     ]
    }
   ],
   "source": [
    "#7.WAP to the given number integer, if n is greater than 21,print the absolute \n",
    "#difference between n and 21 otherwise print twice the abs diff\n",
    "n=int(input())\n",
    "if n>21:\n",
    "    abs_diff=abs(n-21)\n",
    "    print(abs_diff)\n",
    "else:\n",
    "    print(2*abs(n-21))\n"
   ]
  },
  {
   "cell_type": "code",
   "execution_count": 5,
   "metadata": {},
   "outputs": [
    {
     "name": "stdout",
     "output_type": "stream",
     "text": [
      "m is smaller\n"
     ]
    }
   ],
   "source": [
    "#8.Smallest of 2 nums\n",
    "m=int(input())\n",
    "n=int(input())\n",
    "if m<n:\n",
    "    print(\"m is smaller\")\n",
    "else:\n",
    "    print(\"n is smaller\")"
   ]
  },
  {
   "cell_type": "code",
   "execution_count": 6,
   "metadata": {},
   "outputs": [
    {
     "name": "stdout",
     "output_type": "stream",
     "text": [
      "22\n"
     ]
    }
   ],
   "source": [
    "#9.WAP to check whether the given number is even or odd. If it is even then make \n",
    "#it as an add number, if it is an odd number then make it as even number.\n",
    "n=int(input())\n",
    "if n%2==0:\n",
    "    print(n+1)\n",
    "else:\n",
    "    print(n-1)"
   ]
  },
  {
   "cell_type": "code",
   "execution_count": 8,
   "metadata": {},
   "outputs": [
    {
     "name": "stdout",
     "output_type": "stream",
     "text": [
      "15\n"
     ]
    }
   ],
   "source": [
    "#10.WAP to check whether the given number is divisible by 3 or not if yes, print the \n",
    "#number or else print the cube of the numbers.\n",
    "n=int(input())\n",
    "if n%3==0:\n",
    "    print(n)\n",
    "else:\n",
    "    print(n**3)"
   ]
  },
  {
   "cell_type": "code",
   "execution_count": 10,
   "metadata": {},
   "outputs": [
    {
     "name": "stdout",
     "output_type": "stream",
     "text": [
      "C\n"
     ]
    }
   ],
   "source": [
    "#11.WAP to check whether the given input is divisible by 3 and 5. If yes print the \n",
    "#actual number or else print string of that number.\n",
    "n=int(input())\n",
    "if n%3==0 and n%5==0:\n",
    "    print(n)\n",
    "else:\n",
    "    print(chr(n))"
   ]
  },
  {
   "cell_type": "code",
   "execution_count": 12,
   "metadata": {},
   "outputs": [
    {
     "name": "stdout",
     "output_type": "stream",
     "text": [
      "64\n"
     ]
    }
   ],
   "source": [
    "#12.WAP to check whether the given number lies between 1 to 19, if it is true square \n",
    "#that number or else false cube that number and display the number.\n",
    "n=int(input())\n",
    "if 1<=n<=19:\n",
    "    print(n**2)\n",
    "else:\n",
    "    print(n**3)"
   ]
  },
  {
   "cell_type": "code",
   "execution_count": 13,
   "metadata": {},
   "outputs": [
    {
     "name": "stdout",
     "output_type": "stream",
     "text": [
      "36 fail\n"
     ]
    }
   ],
   "source": [
    "#13.WAP to check whether the student has passed or failed. If the student got more \n",
    "#than 40 marks, print ‘PASS’ along with those marks, if it is not printed ‘FAIL’ along \n",
    "#with those marks\n",
    "n=int(input())\n",
    "if n>40:\n",
    "    print(n,'pass')\n",
    "else:\n",
    "    print(n,'fail')\n"
   ]
  },
  {
   "cell_type": "code",
   "execution_count": 14,
   "metadata": {},
   "outputs": [
    {
     "name": "stdout",
     "output_type": "stream",
     "text": [
      "4\n"
     ]
    }
   ],
   "source": [
    "#14.WAP to check whether a given value is even and in range of 47 to 58 and not in 0 \n",
    "#or odd. if condition is True, to perform display the ascii character. or else to \n",
    "#perform floor division with 5 and display it.\n",
    "n=24\n",
    "if n%2==0 and 47<=n<58 and (n!=0 or n%2!=0):\n",
    "    print(chr(n))\n",
    "else:\n",
    "    print(n//5)"
   ]
  },
  {
   "cell_type": "code",
   "execution_count": 16,
   "metadata": {},
   "outputs": [
    {
     "name": "stdout",
     "output_type": "stream",
     "text": [
      "{67: 'C'}\n"
     ]
    }
   ],
   "source": [
    "#15.WAP to check whether a given value is less than 125 and in between 47 to 125 or \n",
    "#not. if condition is True, to perform store the given value as key and value as a \n",
    "#character into the dict or else to append the value in list and display it.\n",
    "n=int(input())\n",
    "m=[]\n",
    "if n<125 and 47<n<125:\n",
    "    print({n:chr(n)})\n",
    "else:\n",
    "    m+=[n]\n",
    "    print(m)"
   ]
  },
  {
   "cell_type": "code",
   "execution_count": 19,
   "metadata": {},
   "outputs": [
    {
     "name": "stdout",
     "output_type": "stream",
     "text": [
      "@ not a alphabet\n"
     ]
    }
   ],
   "source": [
    "#16.WAP to check whether a given character is in the alphabet or not. if alphabet, \n",
    "#display the alphabet with character or else display the not alphabet with \n",
    "#character.\n",
    "ch='@'\n",
    "if ch in 'A'<=ch<='Z' or 'a'<=ch<='z':\n",
    "    print(ch,\"is a alphabet\")\n",
    "else:\n",
    "    print(ch,'not a alphabet')\n"
   ]
  },
  {
   "cell_type": "code",
   "execution_count": 32,
   "metadata": {},
   "outputs": [
    {
     "name": "stdout",
     "output_type": "stream",
     "text": [
      "Z is in uppercase\n"
     ]
    }
   ],
   "source": [
    "#17.WAP to check whether a given character is uppercase or other character. if \n",
    "#uppercase, display the uppercase with character or else display the other \n",
    "#character with character.\n",
    "ch='Z'\n",
    "if 65<=ord(ch)<=90:\n",
    "    print(ch,'is in uppercase')\n",
    "else:\n",
    "    print(ch,'is a other character')"
   ]
  },
  {
   "cell_type": "code",
   "execution_count": 34,
   "metadata": {},
   "outputs": [
    {
     "name": "stdout",
     "output_type": "stream",
     "text": [
      "z is in lowercase\n"
     ]
    }
   ],
   "source": [
    "#18WAP to check whether a given character is lowercase or other character. if \n",
    "#lowercase, display the lowercase with character or else display the other\n",
    "#character with character\n",
    "ch='z'\n",
    "if 97<=ord(ch)<=122:\n",
    "    print(ch,'is in lowercase')\n",
    "else:\n",
    "    print(ch,'is a other character')"
   ]
  },
  {
   "cell_type": "code",
   "execution_count": 36,
   "metadata": {},
   "outputs": [
    {
     "name": "stdout",
     "output_type": "stream",
     "text": [
      "101\n"
     ]
    }
   ],
   "source": [
    "#19.WAP to check whether a given character is uppercase or other character. if \n",
    "#uppercase, convert to lowercase .or else display the ascii number.\n",
    "ch='e'\n",
    "if 65<=ord(ch)<=90:\n",
    "    print(chr(ord(ch)+32))\n",
    "else:\n",
    "    print(ord(ch))"
   ]
  },
  {
   "cell_type": "code",
   "execution_count": 42,
   "metadata": {},
   "outputs": [
    {
     "name": "stdout",
     "output_type": "stream",
     "text": [
      "invalid character\n"
     ]
    }
   ],
   "source": [
    "#20.WAP to check whether the given character is in lowercase or uppercase. If it is \n",
    "#in lowercase, convert it into uppercase, or else it is in uppercase and convert it \n",
    "#into lowercase. Display the value\n",
    "ch='@'\n",
    "if 65<=ord(ch)<=90:\n",
    "    print(chr(ord(ch)+32))\n",
    "elif 97<=ord(ch)<=122:\n",
    "    print(chr(ord(ch)-32))\n",
    "else:\n",
    "    print('invalid character')"
   ]
  },
  {
   "cell_type": "code",
   "execution_count": 5,
   "metadata": {},
   "outputs": [
    {
     "name": "stdout",
     "output_type": "stream",
     "text": [
      "l\n"
     ]
    }
   ],
   "source": [
    "#21.WAP to check whether the given string of the first character is a special symbol \n",
    "#or not. If a special symbol, to extract and display the middle character or else to \n",
    "#reverse the string and display the half of the string\n",
    "ch='@Dilip'\n",
    "if not ('A'<=ch[0]<='Z' or 'a'<=ch[0]<='z' or '0'<=ch[0]<='9'):\n",
    "    ch1=len(ch)//2\n",
    "    print(ch[ch1])\n",
    "else:\n",
    "    print(ch[::-1])"
   ]
  },
  {
   "cell_type": "code",
   "execution_count": 22,
   "metadata": {},
   "outputs": [
    {
     "name": "stdout",
     "output_type": "stream",
     "text": [
      "a vowe1\n"
     ]
    }
   ],
   "source": [
    "#22.WAP to check whether the input character is a vowel or not. If it is vowel print \n",
    "#‘VOWEL’ along with that character, if it is not just print ‘CONSONANT’.\n",
    "ch='a'\n",
    "if ch in 'aeiouAEIOU':\n",
    "    print(ch,'vowe1')\n",
    "else:\n",
    "    print(ch,'consonant')"
   ]
  },
  {
   "cell_type": "code",
   "execution_count": 15,
   "metadata": {},
   "outputs": [
    {
     "name": "stdout",
     "output_type": "stream",
     "text": [
      "b\n"
     ]
    }
   ],
   "source": [
    "#23.WAP to check whether a given character is a vowel or consonant. if vowel, to \n",
    "#print the next character of a given character or else print previous characters.\n",
    "ch='c'\n",
    "if ch in 'aeiouAEIOU':\n",
    "    print(chr(ord(ch)+1))\n",
    "else:\n",
    "    print(chr(ord(ch)-1))"
   ]
  },
  {
   "cell_type": "code",
   "execution_count": 20,
   "metadata": {},
   "outputs": [
    {
     "name": "stdout",
     "output_type": "stream",
     "text": [
      "l\n"
     ]
    }
   ],
   "source": [
    "#24.WAP to check whether a given string of first character is alphabet or not\n",
    "#if the alphabet prints, reverse the string or else print the middle character.\n",
    "ch='@dilip'\n",
    "if ch[0] in 'A'<=ch[0]<='Z' or 'a'<=ch[0]<='z':\n",
    "    print(ch[::-1])\n",
    "else:\n",
    "    ch1=len(ch)//2\n",
    "    print(ch[ch1])"
   ]
  },
  {
   "cell_type": "code",
   "execution_count": 31,
   "metadata": {},
   "outputs": [
    {
     "name": "stdout",
     "output_type": "stream",
     "text": [
      "A\n"
     ]
    }
   ],
   "source": [
    "#25.WAP to check whether the given input character is uppercase or lowercase. If \n",
    "#the input character is upper case convert into lower case and vice versa\n",
    "ch='a'\n",
    "if 'A'<=ch<='Z':\n",
    "    print(chr(ord(ch)+32))\n",
    "else:\n",
    "    print(chr(ord(ch)-32))"
   ]
  },
  {
   "cell_type": "code",
   "execution_count": 32,
   "metadata": {},
   "outputs": [
    {
     "name": "stdout",
     "output_type": "stream",
     "text": [
      "ip\n"
     ]
    }
   ],
   "source": [
    "#26.WAP to check whether a given string is less than 3 characters, to print the entire \n",
    "#string otherwise to print after third positions to the remaining string.\n",
    "ch='Dilip'\n",
    "if len(ch)<3:\n",
    "    print(ch)\n",
    "else:\n",
    "    print(ch[3:])"
   ]
  },
  {
   "cell_type": "code",
   "execution_count": 35,
   "metadata": {},
   "outputs": [
    {
     "name": "stdout",
     "output_type": "stream",
     "text": [
      "Dp\n"
     ]
    }
   ],
   "source": [
    "#27.WAP to check whether a given length of the string is even or not. if even, to \n",
    "#append the new string called \"bye\" or else print the first and last characters.\n",
    "ch='Dilip'\n",
    "if len(ch)%2==0:\n",
    "    print('bye'+ch)\n",
    "else:\n",
    "    print(ch[0]+ch[-1])"
   ]
  },
  {
   "cell_type": "code",
   "execution_count": 38,
   "metadata": {},
   "outputs": [
    {
     "name": "stdout",
     "output_type": "stream",
     "text": [
      "HaiiDilip\n"
     ]
    }
   ],
   "source": [
    "#28.WAP to check whether a given length of the string is odd or not. if odd, to append \n",
    "#the new string(\"Haii\") from the starting of the given string, or else to avoid the \n",
    "#starting character and ending character of the given\n",
    "#string and to display the remaining characters.\n",
    "ch='Dilip'\n",
    "if len(ch)%2!=0:\n",
    "    print('Haii'+ch)\n",
    "else:\n",
    "    print(ch[1:len(ch)-1])\n"
   ]
  },
  {
   "cell_type": "code",
   "execution_count": 39,
   "metadata": {},
   "outputs": [
    {
     "name": "stdout",
     "output_type": "stream",
     "text": [
      "it is a leap year\n"
     ]
    }
   ],
   "source": [
    "#29.WAP to check whether a given year is a leap year or not. if leap year, print leap \n",
    "#year or else not a leap year.\n",
    "n=int(input(\"enter a year\"))\n",
    "if n%4==0:\n",
    "    print(\"it is a leap year\")\n",
    "else:\n",
    "    print(\"not a leap year\")"
   ]
  },
  {
   "cell_type": "code",
   "execution_count": 41,
   "metadata": {},
   "outputs": [
    {
     "name": "stdout",
     "output_type": "stream",
     "text": [
      "value is available\n"
     ]
    }
   ],
   "source": [
    "#30.WAP to check whether the given value is present inside the given collection or \n",
    "#not.if value is present, display the value is available or else the value is not \n",
    "#present.\n",
    "s=[10,20,30]\n",
    "if 10 in s:\n",
    "    print(\"value is available\")\n",
    "else:\n",
    "    print(\"val is not available\")"
   ]
  },
  {
   "cell_type": "code",
   "execution_count": 44,
   "metadata": {},
   "outputs": [
    {
     "name": "stdout",
     "output_type": "stream",
     "text": [
      "DiDiDi\n"
     ]
    }
   ],
   "source": [
    "#31.WAP whether a given string, if string length is more than 2, then it displays a new \n",
    "#string with the first and last characters switched, otherwise the display the 3 \n",
    "#copies of given string\n",
    "ch='Di'\n",
    "if len(ch)>2:\n",
    "   ch1=ch[-1]+'chill'+ch[0]\n",
    "   print(ch1)\n",
    "else:\n",
    "   print(ch*3)"
   ]
  },
  {
   "cell_type": "code",
   "execution_count": 46,
   "metadata": {},
   "outputs": [
    {
     "name": "stdout",
     "output_type": "stream",
     "text": [
      "[2.0, 'a', -10]\n"
     ]
    }
   ],
   "source": [
    "#32.WAP to check whether a given value is a list and first and last values should be \n",
    "#integer if condition is satisfied first value is True division by 3 and perform the \n",
    "#bitwise not for last value and those result values are stored in same positions in \n",
    "#given list or else, to perform length of the collection power by 2 and display \n",
    "#value.\n",
    "c=[6,'a',9]\n",
    "if type(c[0])==int and type(c[-1])==int and type(c)==list:\n",
    "    c[0]=c[0]/3\n",
    "    c[-1]=~c[-1]\n",
    "    print(c)\n",
    "else:\n",
    "    d=len(c)**2\n",
    "    print(d)"
   ]
  },
  {
   "cell_type": "code",
   "execution_count": 55,
   "metadata": {},
   "outputs": [
    {
     "name": "stdout",
     "output_type": "stream",
     "text": [
      "Pythondhaiieveloper\n"
     ]
    }
   ],
   "source": [
    "#33.WAP to check whether a given value is a string or not and length of the value \n",
    "#should be more than 7, if condition is satisfied to append the new string in the \n",
    "#middle of the given string or else to perform the replications with 3 and display \n",
    "#the result.\n",
    "ch='Pythondeveloper'\n",
    "if type(ch)==str and len(ch)>7:\n",
    "    ch1=ch[0:len(ch)//2]+'haii'+ch[len(ch)//2:]\n",
    "    print(ch1)\n",
    "else:\n",
    "    print(ch*3)\n"
   ]
  },
  {
   "cell_type": "code",
   "execution_count": 76,
   "metadata": {},
   "outputs": [
    {
     "name": "stdout",
     "output_type": "stream",
     "text": [
      "fedaghcd\n"
     ]
    }
   ],
   "source": [
    "#34.WAP to check if the given string of first and second character should be sequence \n",
    "#or not. if the sequence prints the first, second and last two characters, or else the \n",
    "#first half string is reversed and the remaining half string should be normal and \n",
    "#display it.\n",
    "ch='adefghcd'\n",
    "if ord(ch[0])==ord(ch[1])-1:\n",
    "    print(ch[0:2]+ch[-2:])\n",
    "else:\n",
    "    ch1=ch[3::-1]\n",
    "    print(ch1+ch[len(ch)//2:])"
   ]
  },
  {
   "cell_type": "code",
   "execution_count": 88,
   "metadata": {},
   "outputs": [
    {
     "name": "stdout",
     "output_type": "stream",
     "text": [
      "{'a': 10, 'b': 20, 'c': 30, 'd': 40, 'e': 50}\n"
     ]
    }
   ],
   "source": [
    "#35.WAP to check whether a given key is present in the dict or not. if key is present: \n",
    "#display the value or else add key and new value inside the dict\n",
    "d={'a':10,'b':20,'c':30,'d':40}\n",
    "if d['d'] in d:\n",
    "    print(d['d'])\n",
    "else:\n",
    "    d['e']=50\n",
    "    print(d)"
   ]
  },
  {
   "cell_type": "code",
   "execution_count": 89,
   "metadata": {},
   "outputs": [
    {
     "name": "stdout",
     "output_type": "stream",
     "text": [
      "not eligible\n"
     ]
    }
   ],
   "source": [
    "#36.WAP to read the age of a candidate and determine whether it is eligible for \n",
    "#his/her own vote or not.it eligible print age and eligible messages or else print \n",
    "#not eligible.\n",
    "n=int(input())\n",
    "if n>18:\n",
    "    print(\"eligible\")\n",
    "else:\n",
    "    print(\"not eligible\")"
   ]
  },
  {
   "cell_type": "code",
   "execution_count": 90,
   "metadata": {},
   "outputs": [
    {
     "name": "stdout",
     "output_type": "stream",
     "text": [
      "it is a palindrome\n"
     ]
    }
   ],
   "source": [
    "#37.WAP to check whether the given string is palindrome or not if it is a palindrome \n",
    "#string palindrome along with the string if it is not a palindrome print not \n",
    "#palindrome\n",
    "s1='madam'\n",
    "s2='madam'\n",
    "if s1==s2[::-1]:\n",
    "    print(\"it is a palindrome\")\n",
    "else:\n",
    "    print(\"it is not a palindrome\")"
   ]
  },
  {
   "cell_type": "code",
   "execution_count": 91,
   "metadata": {},
   "outputs": [
    {
     "name": "stdout",
     "output_type": "stream",
     "text": [
      "6 Swathi\n",
      "7 Sravani\n"
     ]
    }
   ],
   "source": [
    "#38.WAP to check length of both string collections are equal or not. if both are equal \n",
    "#print the concat the two strings and display, or else if any one of the collection \n",
    "#not equal print both the collections with lengths\n",
    "s1='Swathi'\n",
    "s2='Sravani'\n",
    "if len(s1)==len(s2):\n",
    "    print(s1+s2)\n",
    "else:\n",
    "    print(len(s1),s1)\n",
    "    print(len(s2),s2)"
   ]
  },
  {
   "cell_type": "code",
   "execution_count": 92,
   "metadata": {},
   "outputs": [
    {
     "name": "stdout",
     "output_type": "stream",
     "text": [
      "140737348494120\n",
      "140737348494184\n"
     ]
    }
   ],
   "source": [
    "#39.WAP to check whether both given values point to the same memory location or \n",
    "#not. if it is true print the middle item of the second collection, or else if it is false \n",
    "#print the first item and last item of the first collection along with the memory \n",
    "#address.\n",
    "s1=[1,2,3]\n",
    "s2=['a','b','c']\n",
    "if id(s1)is id(s2):\n",
    "    s3=len(s2)//2\n",
    "    print(s3)\n",
    "else:\n",
    "    print(id(s1[0]))\n",
    "    print(id(s1[-1]))"
   ]
  },
  {
   "cell_type": "code",
   "execution_count": 100,
   "metadata": {},
   "outputs": [
    {
     "name": "stdout",
     "output_type": "stream",
     "text": [
      "nes\n"
     ]
    }
   ],
   "source": [
    "#40.WAP to check whether a given string collection is more than ten, and the first + \n",
    "#last character of the ascii values should be divisible by 5, if condition is satisfied \n",
    "#print first, middle, last characters ASCII values or else print the string three \n",
    "#times\n",
    "ch='nythondevelopes'\n",
    "if len(ch)>10 and ord(ch[0])%5==0 and ord(ch[-1])%5==0:\n",
    "    ch1=ch[0]+ch[len(ch)//2]+ch[-1]\n",
    "    print(ch1)\n",
    "else:\n",
    "    print(ch*3)\n"
   ]
  },
  {
   "cell_type": "code",
   "execution_count": 2,
   "metadata": {},
   "outputs": [
    {
     "name": "stdout",
     "output_type": "stream",
     "text": [
      "{50, 20, 40, 10, 30}\n"
     ]
    }
   ],
   "source": [
    "#41.WAP to check whether a given collection is set or not. if set, append the new \n",
    "#value, or else eliminate the duplicate values in collection. final results should be \n",
    "#set type.\n",
    "s1={10,20,30}\n",
    "if 10 in s1:\n",
    "    s1|={40,50}\n",
    "    print(s1)\n",
    "else:\n",
    "    print(type(s1))\n"
   ]
  },
  {
   "cell_type": "code",
   "execution_count": 3,
   "metadata": {},
   "outputs": [
    {
     "name": "stdout",
     "output_type": "stream",
     "text": [
      "he will come out of the shop\n"
     ]
    }
   ],
   "source": [
    "#42.Ravi would like to buy a new cello or red pen. The cost of the pen should be 10. \n",
    "#If the pen is available in the shop, he will buy the pen. If it is not there he will \n",
    "#come out of the shop.\n",
    "shop='new cello'\n",
    "cost=10\n",
    "if 'new cello' in shop and cost==12:\n",
    "    print('he will buy pen')\n",
    "else:\n",
    "    print('he will come out of the shop')"
   ]
  },
  {
   "cell_type": "code",
   "execution_count": 14,
   "metadata": {},
   "outputs": [
    {
     "name": "stdout",
     "output_type": "stream",
     "text": [
      "[20, 30, 45]\n"
     ]
    }
   ],
   "source": [
    "#43.WAP to perform addition and subtraction operation by using list collection if the \n",
    "#first and middle data items number are even performing addition operation, or \n",
    "#else performing subtraction.\n",
    "l=[10,20,30,45]\n",
    "if l[0]%2==0 and l[-1]%2==0:\n",
    "    l+=['a','b']\n",
    "    print(l)\n",
    "else:\n",
    "    del l[0]\n",
    "    print(l)"
   ]
  },
  {
   "cell_type": "code",
   "execution_count": 16,
   "metadata": {},
   "outputs": [
    {
     "name": "stdout",
     "output_type": "stream",
     "text": [
      "2164067564928\n",
      "2164067673152\n"
     ]
    }
   ],
   "source": [
    "#44.WAP to check whether the first item of these two lists is either integer or not. \n",
    "#If it is an integer, concatenate these two lists or else print the memory \n",
    "#address of these two lists\n",
    "l1=[10,20,30,40]\n",
    "l2=['a','b','c','d']\n",
    "if type(l1[0])==int and type(l2[0])==int:\n",
    "    l1+=l2\n",
    "    print(l1)\n",
    "else:\n",
    "    print(id(l1))\n",
    "    print(id(l2))"
   ]
  },
  {
   "cell_type": "code",
   "execution_count": 41,
   "metadata": {},
   "outputs": [
    {
     "name": "stdout",
     "output_type": "stream",
     "text": [
      "@kDlipi\n"
     ]
    }
   ],
   "source": [
    "#45.WAP to check whether the last of the given string is a special character or not, if \n",
    "#the special character prints reverse the string except the last character or else to \n",
    "#check if the length of the string is odd or not, if odd to extract the middle \n",
    "#character to the end of the string.\n",
    "ch='@kDilip'\n",
    "if not ('A'<=ch[-1]<='Z' or 'a'<=ch[-1]<='z' or '0'<=ch[-1]<='9'):\n",
    "    ch1=ch[-2::-1]\n",
    "    print(ch1)\n",
    "else:\n",
    "    if(len(ch)%2==1):\n",
    "        ch2=ch[0:3]+ch[4:]+ch[3]\n",
    "    print(ch2)"
   ]
  },
  {
   "cell_type": "code",
   "execution_count": null,
   "metadata": {},
   "outputs": [],
   "source": []
  },
  {
   "cell_type": "code",
   "execution_count": null,
   "metadata": {},
   "outputs": [],
   "source": []
  },
  {
   "cell_type": "code",
   "execution_count": null,
   "metadata": {},
   "outputs": [],
   "source": []
  }
 ],
 "metadata": {
  "kernelspec": {
   "display_name": "Python 3",
   "language": "python",
   "name": "python3"
  },
  "language_info": {
   "codemirror_mode": {
    "name": "ipython",
    "version": 3
   },
   "file_extension": ".py",
   "mimetype": "text/x-python",
   "name": "python",
   "nbconvert_exporter": "python",
   "pygments_lexer": "ipython3",
   "version": "3.11.4"
  },
  "orig_nbformat": 4
 },
 "nbformat": 4,
 "nbformat_minor": 2
}
