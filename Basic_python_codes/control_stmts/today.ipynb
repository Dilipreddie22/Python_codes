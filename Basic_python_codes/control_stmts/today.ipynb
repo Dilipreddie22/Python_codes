{
 "cells": [
  {
   "cell_type": "code",
   "execution_count": 1,
   "metadata": {},
   "outputs": [
    {
     "name": "stdout",
     "output_type": "stream",
     "text": [
      "15\n",
      "14\n",
      "13\n",
      "12\n",
      "11\n",
      "10\n",
      "9\n",
      "8\n",
      "7\n",
      "6\n",
      "5\n",
      "4\n",
      "3\n",
      "2\n",
      "1\n"
     ]
    }
   ],
   "source": [
    "n=15\n",
    "while n:\n",
    "    print(n)\n",
    "    n-=1"
   ]
  },
  {
   "cell_type": "code",
   "execution_count": 4,
   "metadata": {},
   "outputs": [
    {
     "name": "stdout",
     "output_type": "stream",
     "text": [
      "945\n"
     ]
    }
   ],
   "source": [
    "n=25\n",
    "m=65\n",
    "s=0\n",
    "while n<=m:\n",
    "    if n%2!=0:\n",
    "        s+=n\n",
    "    n+=1\n",
    "print(s)"
   ]
  },
  {
   "cell_type": "code",
   "execution_count": 15,
   "metadata": {},
   "outputs": [
    {
     "name": "stdout",
     "output_type": "stream",
     "text": [
      "2\n",
      "prime\n"
     ]
    }
   ],
   "source": [
    "n=11\n",
    "m=1\n",
    "c=0\n",
    "while m<=n:\n",
    "    if n%m==0:\n",
    "        c+=1\n",
    "    m+=1\n",
    "print(c)\n",
    "if c==2:\n",
    "    print(\"prime\")\n",
    "else:\n",
    "    print(\"not prime\")"
   ]
  },
  {
   "cell_type": "code",
   "execution_count": 17,
   "metadata": {},
   "outputs": [
    {
     "name": "stdout",
     "output_type": "stream",
     "text": [
      "1\n",
      "2\n",
      "3\n",
      "4\n",
      "6\n",
      "8\n",
      "12\n",
      "24\n"
     ]
    }
   ],
   "source": [
    "n=24\n",
    "m=1\n",
    "while m<=n:\n",
    "    if n%m==0 and n%2==0:\n",
    "        print(m)\n",
    "    m+=1\n",
    "    "
   ]
  },
  {
   "cell_type": "code",
   "execution_count": 18,
   "metadata": {},
   "outputs": [
    {
     "name": "stdout",
     "output_type": "stream",
     "text": [
      "127\n",
      "not strong\n"
     ]
    }
   ],
   "source": [
    "n=int(input())\n",
    "res1=0\n",
    "temp=n\n",
    "while n:\n",
    "    n1=n%10\n",
    "    m=1\n",
    "    res=1\n",
    "    while m<=n1:\n",
    "        res*=m\n",
    "        m+=1\n",
    "    res1+=res\n",
    "    n=n//10\n",
    "print(res1)\n",
    "if res1==temp:\n",
    "    print(\"strong\")\n",
    "else:\n",
    "    print(\"not strong\")"
   ]
  },
  {
   "cell_type": "code",
   "execution_count": 3,
   "metadata": {},
   "outputs": [
    {
     "name": "stdout",
     "output_type": "stream",
     "text": [
      "1\n",
      "22\n",
      "231\n"
     ]
    }
   ],
   "source": [
    "n=121\n",
    "rev=0\n",
    "while n>0:\n",
    "    ld=n%10\n",
    "    rev=(rev*10)+ld\n",
    "    print(rev)\n",
    "    rev+=1\n",
    "    n=n//10"
   ]
  },
  {
   "cell_type": "code",
   "execution_count": 5,
   "metadata": {},
   "outputs": [
    {
     "name": "stdout",
     "output_type": "stream",
     "text": [
      "6\n",
      "1\n",
      "2\n",
      "3\n",
      "6\n"
     ]
    }
   ],
   "source": [
    "n=123\n",
    "m=1\n",
    "s=0\n",
    "while n:\n",
    "    ld=n%10\n",
    "    n=n//10\n",
    "    s+=ld\n",
    "    s1=s\n",
    "print(s1)\n",
    "while m<=s1:\n",
    "    if s1%m==0:\n",
    "        print(m)\n",
    "    m+=1"
   ]
  },
  {
   "cell_type": "code",
   "execution_count": null,
   "metadata": {},
   "outputs": [],
   "source": [
    "#wap to print amstrong numbers from 1 to 10000\n",
    "start=1\n",
    "end=1000\n"
   ]
  }
 ],
 "metadata": {
  "kernelspec": {
   "display_name": "Python 3",
   "language": "python",
   "name": "python3"
  },
  "language_info": {
   "codemirror_mode": {
    "name": "ipython",
    "version": 3
   },
   "file_extension": ".py",
   "mimetype": "text/x-python",
   "name": "python",
   "nbconvert_exporter": "python",
   "pygments_lexer": "ipython3",
   "version": "3.11.4"
  },
  "orig_nbformat": 4
 },
 "nbformat": 4,
 "nbformat_minor": 2
}
