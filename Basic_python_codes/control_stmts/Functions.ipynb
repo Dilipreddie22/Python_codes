{
 "cells": [
  {
   "cell_type": "code",
   "execution_count": 11,
   "metadata": {},
   "outputs": [
    {
     "name": "stdout",
     "output_type": "stream",
     "text": [
      "Dilip,male,hyd,21\n",
      "akshay,male,hyd,22\n"
     ]
    }
   ],
   "source": [
    "class person :\n",
    "    def __init__(self,a,b,c,d):\n",
    "        self.name=a\n",
    "        self.gender=b\n",
    "        self.address=c\n",
    "        self.age=d\n",
    "    def display(self):\n",
    "        print(f'{self.name},{self.gender},{self.address},{self.age}')\n",
    "\n",
    "p = person(\"Dilip\",\"male\",\"hyd\",21)\n",
    "s = person(\"Akshay\",\"male\",\"hyd\",22)\n",
    "p.display()\n",
    "s.display()\n",
    "#print(p.name,p.gender,p.address,p.age)"
   ]
  },
  {
   "cell_type": "code",
   "execution_count": null,
   "metadata": {},
   "outputs": [],
   "source": []
  }
 ],
 "metadata": {
  "kernelspec": {
   "display_name": "Python 3",
   "language": "python",
   "name": "python3"
  },
  "language_info": {
   "codemirror_mode": {
    "name": "ipython",
    "version": 3
   },
   "file_extension": ".py",
   "mimetype": "text/x-python",
   "name": "python",
   "nbconvert_exporter": "python",
   "pygments_lexer": "ipython3",
   "version": "3.11.4"
  }
 },
 "nbformat": 4,
 "nbformat_minor": 2
}
